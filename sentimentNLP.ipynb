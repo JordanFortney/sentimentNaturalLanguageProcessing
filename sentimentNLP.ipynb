{
 "cells": [
  {
   "cell_type": "code",
   "execution_count": 26,
   "metadata": {},
   "outputs": [],
   "source": [
    "import pandas as pd\n",
    "import numpy as np\n",
    "import matplotlib.pyplot as plt\n",
    "import seaborn as sns\n",
    "import joblib\n",
    "import os.path\n",
    "from sklearn.model_selection import train_test_split\n",
    "import nltk\n",
    "import string\n",
    "from nltk.corpus import stopwords \n",
    "from sklearn.feature_extraction.text import CountVectorizer\n",
    "from sklearn.feature_extraction.text import TfidfVectorizer\n",
    "from sklearn.linear_model import LogisticRegression\n",
    "from sklearn.decomposition import PCA\n",
    "\n",
    "import warnings\n",
    "warnings.filterwarnings('ignore')"
   ]
  },
  {
   "cell_type": "code",
   "execution_count": 2,
   "metadata": {},
   "outputs": [
    {
     "data": {
      "text/html": [
       "<div>\n",
       "<style scoped>\n",
       "    .dataframe tbody tr th:only-of-type {\n",
       "        vertical-align: middle;\n",
       "    }\n",
       "\n",
       "    .dataframe tbody tr th {\n",
       "        vertical-align: top;\n",
       "    }\n",
       "\n",
       "    .dataframe thead th {\n",
       "        text-align: right;\n",
       "    }\n",
       "</style>\n",
       "<table border=\"1\" class=\"dataframe\">\n",
       "  <thead>\n",
       "    <tr style=\"text-align: right;\">\n",
       "      <th></th>\n",
       "      <th>sentiment</th>\n",
       "      <th>text</th>\n",
       "      <th>label</th>\n",
       "    </tr>\n",
       "  </thead>\n",
       "  <tbody>\n",
       "    <tr>\n",
       "      <th>0</th>\n",
       "      <td>positive</td>\n",
       "      <td>good mobile. battery is 5000 mah is very big. ...</td>\n",
       "      <td>2</td>\n",
       "    </tr>\n",
       "    <tr>\n",
       "      <th>1</th>\n",
       "      <td>positive</td>\n",
       "      <td>Overall in hand ecpirience is quite good matt ...</td>\n",
       "      <td>2</td>\n",
       "    </tr>\n",
       "    <tr>\n",
       "      <th>2</th>\n",
       "      <td>positive</td>\n",
       "      <td>1. Superb Camera,\\r\\n2. No lag\\r\\n3. This is m...</td>\n",
       "      <td>2</td>\n",
       "    </tr>\n",
       "    <tr>\n",
       "      <th>3</th>\n",
       "      <td>positive</td>\n",
       "      <td>Bigger size of application names doesn't allow...</td>\n",
       "      <td>2</td>\n",
       "    </tr>\n",
       "    <tr>\n",
       "      <th>4</th>\n",
       "      <td>negative</td>\n",
       "      <td>Just a hype of stock android which is not flaw...</td>\n",
       "      <td>0</td>\n",
       "    </tr>\n",
       "  </tbody>\n",
       "</table>\n",
       "</div>"
      ],
      "text/plain": [
       "  sentiment                                               text  label\n",
       "0  positive  good mobile. battery is 5000 mah is very big. ...      2\n",
       "1  positive  Overall in hand ecpirience is quite good matt ...      2\n",
       "2  positive  1. Superb Camera,\\r\\n2. No lag\\r\\n3. This is m...      2\n",
       "3  positive  Bigger size of application names doesn't allow...      2\n",
       "4  negative  Just a hype of stock android which is not flaw...      0"
      ]
     },
     "metadata": {},
     "output_type": "display_data"
    },
    {
     "data": {
      "text/plain": [
       "(50000, 3)"
      ]
     },
     "metadata": {},
     "output_type": "display_data"
    }
   ],
   "source": [
    "sentTrain = pd.read_csv('generic_sentiment_dataset_50k.csv')\n",
    "display(sentTrain.head())\n",
    "display(sentTrain.shape)"
   ]
  },
  {
   "cell_type": "code",
   "execution_count": 3,
   "metadata": {},
   "outputs": [
    {
     "data": {
      "image/png": "[encoded data removed]",
      "text/plain": [
       "<Figure size 1152x576 with 1 Axes>"
      ]
     },
     "metadata": {
      "needs_background": "light"
     },
     "output_type": "display_data"
    }
   ],
   "source": [
    "values, counts = np.unique(sentTrain['label'], return_counts=True)\n",
    "normalized_counts = counts/counts.sum()\n",
    "\n",
    "plt.figure(figsize = (16,8))\n",
    "plt.bar(values, normalized_counts*100)\n",
    "plt.xlabel('Text Label')\n",
    "plt.xticks([0,1,2])\n",
    "plt.ylabel('% of Reviews')\n",
    "plt.title(\"Sentiment Label Distribution\")\n",
    "plt.show()"
   ]
  },
  {
   "cell_type": "code",
   "execution_count": 4,
   "metadata": {},
   "outputs": [],
   "source": [
    "# Provided to me during my Data Science diploma program\n",
    "\n",
    "ENGLISH_STOP_WORDS = stopwords.words('english')\n",
    "\n",
    "def customTokenizer(sentence):\n",
    "    # remove punctuation and set to lower case\n",
    "    for punctuation_mark in string.punctuation:\n",
    "        sentence = sentence.replace(punctuation_mark,'').lower()\n",
    "\n",
    "    # split sentence into words\n",
    "    listofwords = sentence.split(' ')\n",
    "    listofstemmed_words = []\n",
    "    \n",
    "    stemmer = nltk.stem.PorterStemmer()\n",
    "    \n",
    "    # remove stopwords and any tokens that are just empty strings\n",
    "    for word in listofwords:\n",
    "        if (not word in ENGLISH_STOP_WORDS) and (word!=''):\n",
    "            # Stem words\n",
    "            stemmed_word = stemmer.stem(word)\n",
    "            listofstemmed_words.append(stemmed_word)\n",
    "\n",
    "    return listofstemmed_words"
   ]
  },
  {
   "cell_type": "code",
   "execution_count": 5,
   "metadata": {},
   "outputs": [],
   "source": [
    "X = sentTrain['text']\n",
    "y = sentTrain['label']"
   ]
  },
  {
   "cell_type": "code",
   "execution_count": 6,
   "metadata": {},
   "outputs": [],
   "source": [
    "if (os.path.exists('preRunModels/sentWordsVec.joblib')):\n",
    "    sentWordsVec = joblib.load('preRunModels/sentWordsVec.joblib')\n",
    "else:\n",
    "    sentWordsVec = CountVectorizer(min_df = 75, \n",
    "                                   tokenizer = customTokenizer,\n",
    "                                   ngram_range = (1,3))\n",
    "    \n",
    "    # Save the model result lists for loading in the futrure\n",
    "    joblib.dump(sentWordsVec, 'preRunModels/sentWordsVec.joblib')\n",
    "    \n",
    "sentWordsVec.fit(X)\n",
    "X_Vec = sentWordsVec.transform(X)"
   ]
  },
  {
   "cell_type": "code",
   "execution_count": 7,
   "metadata": {},
   "outputs": [],
   "source": [
    "if (os.path.exists('preRunModels/sentWordsIdf.joblib')):\n",
    "    sentWordsIdf = joblib.load('preRunModels/sentWordsIdf.joblib')\n",
    "else:\n",
    "    sentWordsIdf = TfidfVectorizer(min_df = 75, \n",
    "                                   tokenizer = customTokenizer,\n",
    "                                   ngram_range = (1,3),\n",
    "                                   strip_accents = 'ascii')\n",
    "    # Save the model result lists for loading in the futrure\n",
    "    joblib.dump(sentWordsIdf, 'preRunModels/sentWordsIdf.joblib')\n",
    "    \n",
    "sentWordsIdf.fit(X)\n",
    "X_Idf = sentWordsIdf.transform(X)"
   ]
  },
  {
   "cell_type": "code",
   "execution_count": 8,
   "metadata": {},
   "outputs": [
    {
     "data": {
      "text/html": [
       "<div>\n",
       "<style scoped>\n",
       "    .dataframe tbody tr th:only-of-type {\n",
       "        vertical-align: middle;\n",
       "    }\n",
       "\n",
       "    .dataframe tbody tr th {\n",
       "        vertical-align: top;\n",
       "    }\n",
       "\n",
       "    .dataframe thead th {\n",
       "        text-align: right;\n",
       "    }\n",
       "</style>\n",
       "<table border=\"1\" class=\"dataframe\">\n",
       "  <thead>\n",
       "    <tr style=\"text-align: right;\">\n",
       "      <th></th>\n",
       "      <th>\\r\\n\\r\\ni</th>\n",
       "      <th>\\r\\n\\r\\nthe</th>\n",
       "      <th>0</th>\n",
       "      <th>1</th>\n",
       "      <th>1 day</th>\n",
       "      <th>1 month</th>\n",
       "      <th>10</th>\n",
       "      <th>10 day</th>\n",
       "      <th>100</th>\n",
       "      <th>10000</th>\n",
       "      <th>...</th>\n",
       "      <th>your</th>\n",
       "      <th>youtub</th>\n",
       "      <th>yummi</th>\n",
       "      <th>zoom</th>\n",
       "      <th>…</th>\n",
       "      <th>🇺🇸</th>\n",
       "      <th>🇺🇸 gopdeb</th>\n",
       "      <th>🇺🇸 gopdeb gopdeb</th>\n",
       "      <th>👍</th>\n",
       "      <th>label</th>\n",
       "    </tr>\n",
       "  </thead>\n",
       "  <tbody>\n",
       "    <tr>\n",
       "      <th>0</th>\n",
       "      <td>0</td>\n",
       "      <td>0</td>\n",
       "      <td>0</td>\n",
       "      <td>0</td>\n",
       "      <td>0</td>\n",
       "      <td>0</td>\n",
       "      <td>0</td>\n",
       "      <td>0</td>\n",
       "      <td>0</td>\n",
       "      <td>0</td>\n",
       "      <td>...</td>\n",
       "      <td>0</td>\n",
       "      <td>0</td>\n",
       "      <td>0</td>\n",
       "      <td>0</td>\n",
       "      <td>0</td>\n",
       "      <td>0</td>\n",
       "      <td>0</td>\n",
       "      <td>0</td>\n",
       "      <td>0</td>\n",
       "      <td>2</td>\n",
       "    </tr>\n",
       "    <tr>\n",
       "      <th>1</th>\n",
       "      <td>0</td>\n",
       "      <td>0</td>\n",
       "      <td>0</td>\n",
       "      <td>0</td>\n",
       "      <td>0</td>\n",
       "      <td>0</td>\n",
       "      <td>0</td>\n",
       "      <td>0</td>\n",
       "      <td>0</td>\n",
       "      <td>0</td>\n",
       "      <td>...</td>\n",
       "      <td>0</td>\n",
       "      <td>0</td>\n",
       "      <td>0</td>\n",
       "      <td>0</td>\n",
       "      <td>0</td>\n",
       "      <td>0</td>\n",
       "      <td>0</td>\n",
       "      <td>0</td>\n",
       "      <td>0</td>\n",
       "      <td>2</td>\n",
       "    </tr>\n",
       "    <tr>\n",
       "      <th>2</th>\n",
       "      <td>0</td>\n",
       "      <td>0</td>\n",
       "      <td>0</td>\n",
       "      <td>1</td>\n",
       "      <td>0</td>\n",
       "      <td>0</td>\n",
       "      <td>0</td>\n",
       "      <td>0</td>\n",
       "      <td>0</td>\n",
       "      <td>0</td>\n",
       "      <td>...</td>\n",
       "      <td>0</td>\n",
       "      <td>0</td>\n",
       "      <td>0</td>\n",
       "      <td>0</td>\n",
       "      <td>0</td>\n",
       "      <td>0</td>\n",
       "      <td>0</td>\n",
       "      <td>0</td>\n",
       "      <td>0</td>\n",
       "      <td>2</td>\n",
       "    </tr>\n",
       "    <tr>\n",
       "      <th>3</th>\n",
       "      <td>0</td>\n",
       "      <td>0</td>\n",
       "      <td>0</td>\n",
       "      <td>0</td>\n",
       "      <td>0</td>\n",
       "      <td>0</td>\n",
       "      <td>0</td>\n",
       "      <td>0</td>\n",
       "      <td>0</td>\n",
       "      <td>0</td>\n",
       "      <td>...</td>\n",
       "      <td>0</td>\n",
       "      <td>0</td>\n",
       "      <td>0</td>\n",
       "      <td>0</td>\n",
       "      <td>0</td>\n",
       "      <td>0</td>\n",
       "      <td>0</td>\n",
       "      <td>0</td>\n",
       "      <td>0</td>\n",
       "      <td>2</td>\n",
       "    </tr>\n",
       "    <tr>\n",
       "      <th>4</th>\n",
       "      <td>0</td>\n",
       "      <td>0</td>\n",
       "      <td>0</td>\n",
       "      <td>0</td>\n",
       "      <td>0</td>\n",
       "      <td>0</td>\n",
       "      <td>0</td>\n",
       "      <td>0</td>\n",
       "      <td>0</td>\n",
       "      <td>0</td>\n",
       "      <td>...</td>\n",
       "      <td>0</td>\n",
       "      <td>0</td>\n",
       "      <td>0</td>\n",
       "      <td>0</td>\n",
       "      <td>0</td>\n",
       "      <td>0</td>\n",
       "      <td>0</td>\n",
       "      <td>0</td>\n",
       "      <td>0</td>\n",
       "      <td>0</td>\n",
       "    </tr>\n",
       "    <tr>\n",
       "      <th>...</th>\n",
       "      <td>...</td>\n",
       "      <td>...</td>\n",
       "      <td>...</td>\n",
       "      <td>...</td>\n",
       "      <td>...</td>\n",
       "      <td>...</td>\n",
       "      <td>...</td>\n",
       "      <td>...</td>\n",
       "      <td>...</td>\n",
       "      <td>...</td>\n",
       "      <td>...</td>\n",
       "      <td>...</td>\n",
       "      <td>...</td>\n",
       "      <td>...</td>\n",
       "      <td>...</td>\n",
       "      <td>...</td>\n",
       "      <td>...</td>\n",
       "      <td>...</td>\n",
       "      <td>...</td>\n",
       "      <td>...</td>\n",
       "      <td>...</td>\n",
       "    </tr>\n",
       "    <tr>\n",
       "      <th>49995</th>\n",
       "      <td>0</td>\n",
       "      <td>0</td>\n",
       "      <td>0</td>\n",
       "      <td>0</td>\n",
       "      <td>0</td>\n",
       "      <td>0</td>\n",
       "      <td>0</td>\n",
       "      <td>0</td>\n",
       "      <td>0</td>\n",
       "      <td>0</td>\n",
       "      <td>...</td>\n",
       "      <td>0</td>\n",
       "      <td>0</td>\n",
       "      <td>0</td>\n",
       "      <td>0</td>\n",
       "      <td>0</td>\n",
       "      <td>0</td>\n",
       "      <td>0</td>\n",
       "      <td>0</td>\n",
       "      <td>0</td>\n",
       "      <td>2</td>\n",
       "    </tr>\n",
       "    <tr>\n",
       "      <th>49996</th>\n",
       "      <td>0</td>\n",
       "      <td>0</td>\n",
       "      <td>0</td>\n",
       "      <td>0</td>\n",
       "      <td>0</td>\n",
       "      <td>0</td>\n",
       "      <td>0</td>\n",
       "      <td>0</td>\n",
       "      <td>0</td>\n",
       "      <td>0</td>\n",
       "      <td>...</td>\n",
       "      <td>0</td>\n",
       "      <td>0</td>\n",
       "      <td>0</td>\n",
       "      <td>0</td>\n",
       "      <td>0</td>\n",
       "      <td>0</td>\n",
       "      <td>0</td>\n",
       "      <td>0</td>\n",
       "      <td>0</td>\n",
       "      <td>0</td>\n",
       "    </tr>\n",
       "    <tr>\n",
       "      <th>49997</th>\n",
       "      <td>0</td>\n",
       "      <td>0</td>\n",
       "      <td>0</td>\n",
       "      <td>0</td>\n",
       "      <td>0</td>\n",
       "      <td>0</td>\n",
       "      <td>0</td>\n",
       "      <td>0</td>\n",
       "      <td>0</td>\n",
       "      <td>0</td>\n",
       "      <td>...</td>\n",
       "      <td>0</td>\n",
       "      <td>0</td>\n",
       "      <td>0</td>\n",
       "      <td>0</td>\n",
       "      <td>0</td>\n",
       "      <td>0</td>\n",
       "      <td>0</td>\n",
       "      <td>0</td>\n",
       "      <td>0</td>\n",
       "      <td>1</td>\n",
       "    </tr>\n",
       "    <tr>\n",
       "      <th>49998</th>\n",
       "      <td>0</td>\n",
       "      <td>0</td>\n",
       "      <td>0</td>\n",
       "      <td>0</td>\n",
       "      <td>0</td>\n",
       "      <td>0</td>\n",
       "      <td>0</td>\n",
       "      <td>0</td>\n",
       "      <td>0</td>\n",
       "      <td>0</td>\n",
       "      <td>...</td>\n",
       "      <td>0</td>\n",
       "      <td>0</td>\n",
       "      <td>0</td>\n",
       "      <td>0</td>\n",
       "      <td>0</td>\n",
       "      <td>0</td>\n",
       "      <td>0</td>\n",
       "      <td>0</td>\n",
       "      <td>0</td>\n",
       "      <td>0</td>\n",
       "    </tr>\n",
       "    <tr>\n",
       "      <th>49999</th>\n",
       "      <td>0</td>\n",
       "      <td>0</td>\n",
       "      <td>0</td>\n",
       "      <td>0</td>\n",
       "      <td>0</td>\n",
       "      <td>0</td>\n",
       "      <td>0</td>\n",
       "      <td>0</td>\n",
       "      <td>0</td>\n",
       "      <td>0</td>\n",
       "      <td>...</td>\n",
       "      <td>0</td>\n",
       "      <td>0</td>\n",
       "      <td>0</td>\n",
       "      <td>0</td>\n",
       "      <td>0</td>\n",
       "      <td>0</td>\n",
       "      <td>0</td>\n",
       "      <td>0</td>\n",
       "      <td>0</td>\n",
       "      <td>0</td>\n",
       "    </tr>\n",
       "  </tbody>\n",
       "</table>\n",
       "<p>50000 rows × 1651 columns</p>\n",
       "</div>"
      ],
      "text/plain": [
       "       \\r\\n\\r\\ni  \\r\\n\\r\\nthe  0  1  1 day  1 month  10  10 day  100  10000  \\\n",
       "0              0            0  0  0      0        0   0       0    0      0   \n",
       "1              0            0  0  0      0        0   0       0    0      0   \n",
       "2              0            0  0  1      0        0   0       0    0      0   \n",
       "3              0            0  0  0      0        0   0       0    0      0   \n",
       "4              0            0  0  0      0        0   0       0    0      0   \n",
       "...          ...          ... .. ..    ...      ...  ..     ...  ...    ...   \n",
       "49995          0            0  0  0      0        0   0       0    0      0   \n",
       "49996          0            0  0  0      0        0   0       0    0      0   \n",
       "49997          0            0  0  0      0        0   0       0    0      0   \n",
       "49998          0            0  0  0      0        0   0       0    0      0   \n",
       "49999          0            0  0  0      0        0   0       0    0      0   \n",
       "\n",
       "       ...  your  youtub  yummi  zoom  …  🇺🇸  🇺🇸 gopdeb  🇺🇸 gopdeb gopdeb  👍  \\\n",
       "0      ...     0       0      0     0  0   0          0                 0  0   \n",
       "1      ...     0       0      0     0  0   0          0                 0  0   \n",
       "2      ...     0       0      0     0  0   0          0                 0  0   \n",
       "3      ...     0       0      0     0  0   0          0                 0  0   \n",
       "4      ...     0       0      0     0  0   0          0                 0  0   \n",
       "...    ...   ...     ...    ...   ... ..  ..        ...               ... ..   \n",
       "49995  ...     0       0      0     0  0   0          0                 0  0   \n",
       "49996  ...     0       0      0     0  0   0          0                 0  0   \n",
       "49997  ...     0       0      0     0  0   0          0                 0  0   \n",
       "49998  ...     0       0      0     0  0   0          0                 0  0   \n",
       "49999  ...     0       0      0     0  0   0          0                 0  0   \n",
       "\n",
       "       label  \n",
       "0          2  \n",
       "1          2  \n",
       "2          2  \n",
       "3          2  \n",
       "4          0  \n",
       "...      ...  \n",
       "49995      2  \n",
       "49996      0  \n",
       "49997      1  \n",
       "49998      0  \n",
       "49999      0  \n",
       "\n",
       "[50000 rows x 1651 columns]"
      ]
     },
     "metadata": {},
     "output_type": "display_data"
    }
   ],
   "source": [
    "VecDF = pd.DataFrame(columns = sentWordsVec.get_feature_names(), data = X_Vec.toarray())\n",
    "VecDF['label'] = y\n",
    "display(VecDF)"
   ]
  },
  {
   "cell_type": "code",
   "execution_count": 9,
   "metadata": {},
   "outputs": [
    {
     "name": "stdout",
     "output_type": "stream",
     "text": [
      "5000                   1.0\n",
      "5000 mah               1.0\n",
      "batteri                1.0\n",
      "big                    1.0\n",
      "camera                 1.0\n",
      "camera qualiti         1.0\n",
      "camera qualiti good    1.0\n",
      "good                   2.0\n",
      "good mobil             1.0\n",
      "mah                    1.0\n",
      "mobil                  1.0\n",
      "qualiti                1.0\n",
      "qualiti good           1.0\n",
      "label                  2.0\n",
      "Name: 0, dtype: float64\n",
      "\n",
      "Original Text: good mobile. battery is 5000 mah is very big. camera quality very good.\n",
      "Original Label: 2\n"
     ]
    }
   ],
   "source": [
    "check = VecDF.loc[0]\n",
    "check.where(check > 0, inplace = True)\n",
    "check.dropna(inplace = True)\n",
    "print(check)\n",
    "print()\n",
    "print(f\"Original Text: {sentTrain.iloc[0,1]}\")\n",
    "print(f\"Original Label: {sentTrain.iloc[0,2]}\")"
   ]
  },
  {
   "cell_type": "code",
   "execution_count": 10,
   "metadata": {},
   "outputs": [],
   "source": [
    "def plot_most_frequent(words, word_counts, top=20):\n",
    "    words_df = pd.DataFrame({\"token\": words, \n",
    "                             \"count\": word_counts})\n",
    "    \n",
    "    fig, ax = plt.subplots(figsize=(16,8))\n",
    "    words_df.sort_values(by=\"count\", ascending=False).head(top)\\\n",
    "        .set_index(\"token\")\\\n",
    "        .plot(kind=\"bar\", rot=45, ax=ax)\n",
    "    sns.despine()\n",
    "    plt.title(\"Most frequent tokens\")\n",
    "    plt.show()\n",
    "    \n",
    "    return words_df"
   ]
  },
  {
   "cell_type": "code",
   "execution_count": 11,
   "metadata": {},
   "outputs": [
    {
     "data": {
      "image/png": "[encoded data removed]",
      "text/plain": [
       "<Figure size 1152x576 with 1 Axes>"
      ]
     },
     "metadata": {
      "needs_background": "light"
     },
     "output_type": "display_data"
    }
   ],
   "source": [
    "wordCountsVec = X_Vec.toarray().sum(axis=0)\n",
    "wordsVec = sentWordsVec.get_feature_names()\n",
    "\n",
    "wordsVecDF = plot_most_frequent(wordsVec, wordCountsVec)"
   ]
  },
  {
   "cell_type": "code",
   "execution_count": 12,
   "metadata": {},
   "outputs": [
    {
     "data": {
      "text/html": [
       "<div>\n",
       "<style scoped>\n",
       "    .dataframe tbody tr th:only-of-type {\n",
       "        vertical-align: middle;\n",
       "    }\n",
       "\n",
       "    .dataframe tbody tr th {\n",
       "        vertical-align: top;\n",
       "    }\n",
       "\n",
       "    .dataframe thead th {\n",
       "        text-align: right;\n",
       "    }\n",
       "</style>\n",
       "<table border=\"1\" class=\"dataframe\">\n",
       "  <thead>\n",
       "    <tr style=\"text-align: right;\">\n",
       "      <th></th>\n",
       "      <th>\\r\\n\\r\\ni</th>\n",
       "      <th>\\r\\n\\r\\nthe</th>\n",
       "      <th>0</th>\n",
       "      <th>1</th>\n",
       "      <th>1 day</th>\n",
       "      <th>1 month</th>\n",
       "      <th>10</th>\n",
       "      <th>10 day</th>\n",
       "      <th>100</th>\n",
       "      <th>10000</th>\n",
       "      <th>...</th>\n",
       "      <th>year</th>\n",
       "      <th>yelp</th>\n",
       "      <th>yesterday</th>\n",
       "      <th>yet</th>\n",
       "      <th>youll</th>\n",
       "      <th>your</th>\n",
       "      <th>youtub</th>\n",
       "      <th>yummi</th>\n",
       "      <th>zoom</th>\n",
       "      <th>label</th>\n",
       "    </tr>\n",
       "  </thead>\n",
       "  <tbody>\n",
       "    <tr>\n",
       "      <th>0</th>\n",
       "      <td>0.0</td>\n",
       "      <td>0.0</td>\n",
       "      <td>0.0</td>\n",
       "      <td>0.000000</td>\n",
       "      <td>0.0</td>\n",
       "      <td>0.0</td>\n",
       "      <td>0.0</td>\n",
       "      <td>0.0</td>\n",
       "      <td>0.0</td>\n",
       "      <td>0.0</td>\n",
       "      <td>...</td>\n",
       "      <td>0.0</td>\n",
       "      <td>0.000000</td>\n",
       "      <td>0.0</td>\n",
       "      <td>0.0</td>\n",
       "      <td>0.0</td>\n",
       "      <td>0.0</td>\n",
       "      <td>0.0</td>\n",
       "      <td>0.0</td>\n",
       "      <td>0.0</td>\n",
       "      <td>2</td>\n",
       "    </tr>\n",
       "    <tr>\n",
       "      <th>1</th>\n",
       "      <td>0.0</td>\n",
       "      <td>0.0</td>\n",
       "      <td>0.0</td>\n",
       "      <td>0.000000</td>\n",
       "      <td>0.0</td>\n",
       "      <td>0.0</td>\n",
       "      <td>0.0</td>\n",
       "      <td>0.0</td>\n",
       "      <td>0.0</td>\n",
       "      <td>0.0</td>\n",
       "      <td>...</td>\n",
       "      <td>0.0</td>\n",
       "      <td>0.000000</td>\n",
       "      <td>0.0</td>\n",
       "      <td>0.0</td>\n",
       "      <td>0.0</td>\n",
       "      <td>0.0</td>\n",
       "      <td>0.0</td>\n",
       "      <td>0.0</td>\n",
       "      <td>0.0</td>\n",
       "      <td>2</td>\n",
       "    </tr>\n",
       "    <tr>\n",
       "      <th>2</th>\n",
       "      <td>0.0</td>\n",
       "      <td>0.0</td>\n",
       "      <td>0.0</td>\n",
       "      <td>0.252649</td>\n",
       "      <td>0.0</td>\n",
       "      <td>0.0</td>\n",
       "      <td>0.0</td>\n",
       "      <td>0.0</td>\n",
       "      <td>0.0</td>\n",
       "      <td>0.0</td>\n",
       "      <td>...</td>\n",
       "      <td>0.0</td>\n",
       "      <td>0.000000</td>\n",
       "      <td>0.0</td>\n",
       "      <td>0.0</td>\n",
       "      <td>0.0</td>\n",
       "      <td>0.0</td>\n",
       "      <td>0.0</td>\n",
       "      <td>0.0</td>\n",
       "      <td>0.0</td>\n",
       "      <td>2</td>\n",
       "    </tr>\n",
       "    <tr>\n",
       "      <th>3</th>\n",
       "      <td>0.0</td>\n",
       "      <td>0.0</td>\n",
       "      <td>0.0</td>\n",
       "      <td>0.000000</td>\n",
       "      <td>0.0</td>\n",
       "      <td>0.0</td>\n",
       "      <td>0.0</td>\n",
       "      <td>0.0</td>\n",
       "      <td>0.0</td>\n",
       "      <td>0.0</td>\n",
       "      <td>...</td>\n",
       "      <td>0.0</td>\n",
       "      <td>0.000000</td>\n",
       "      <td>0.0</td>\n",
       "      <td>0.0</td>\n",
       "      <td>0.0</td>\n",
       "      <td>0.0</td>\n",
       "      <td>0.0</td>\n",
       "      <td>0.0</td>\n",
       "      <td>0.0</td>\n",
       "      <td>2</td>\n",
       "    </tr>\n",
       "    <tr>\n",
       "      <th>4</th>\n",
       "      <td>0.0</td>\n",
       "      <td>0.0</td>\n",
       "      <td>0.0</td>\n",
       "      <td>0.000000</td>\n",
       "      <td>0.0</td>\n",
       "      <td>0.0</td>\n",
       "      <td>0.0</td>\n",
       "      <td>0.0</td>\n",
       "      <td>0.0</td>\n",
       "      <td>0.0</td>\n",
       "      <td>...</td>\n",
       "      <td>0.0</td>\n",
       "      <td>0.000000</td>\n",
       "      <td>0.0</td>\n",
       "      <td>0.0</td>\n",
       "      <td>0.0</td>\n",
       "      <td>0.0</td>\n",
       "      <td>0.0</td>\n",
       "      <td>0.0</td>\n",
       "      <td>0.0</td>\n",
       "      <td>0</td>\n",
       "    </tr>\n",
       "    <tr>\n",
       "      <th>...</th>\n",
       "      <td>...</td>\n",
       "      <td>...</td>\n",
       "      <td>...</td>\n",
       "      <td>...</td>\n",
       "      <td>...</td>\n",
       "      <td>...</td>\n",
       "      <td>...</td>\n",
       "      <td>...</td>\n",
       "      <td>...</td>\n",
       "      <td>...</td>\n",
       "      <td>...</td>\n",
       "      <td>...</td>\n",
       "      <td>...</td>\n",
       "      <td>...</td>\n",
       "      <td>...</td>\n",
       "      <td>...</td>\n",
       "      <td>...</td>\n",
       "      <td>...</td>\n",
       "      <td>...</td>\n",
       "      <td>...</td>\n",
       "      <td>...</td>\n",
       "    </tr>\n",
       "    <tr>\n",
       "      <th>49995</th>\n",
       "      <td>0.0</td>\n",
       "      <td>0.0</td>\n",
       "      <td>0.0</td>\n",
       "      <td>0.000000</td>\n",
       "      <td>0.0</td>\n",
       "      <td>0.0</td>\n",
       "      <td>0.0</td>\n",
       "      <td>0.0</td>\n",
       "      <td>0.0</td>\n",
       "      <td>0.0</td>\n",
       "      <td>...</td>\n",
       "      <td>0.0</td>\n",
       "      <td>0.000000</td>\n",
       "      <td>0.0</td>\n",
       "      <td>0.0</td>\n",
       "      <td>0.0</td>\n",
       "      <td>0.0</td>\n",
       "      <td>0.0</td>\n",
       "      <td>0.0</td>\n",
       "      <td>0.0</td>\n",
       "      <td>2</td>\n",
       "    </tr>\n",
       "    <tr>\n",
       "      <th>49996</th>\n",
       "      <td>0.0</td>\n",
       "      <td>0.0</td>\n",
       "      <td>0.0</td>\n",
       "      <td>0.000000</td>\n",
       "      <td>0.0</td>\n",
       "      <td>0.0</td>\n",
       "      <td>0.0</td>\n",
       "      <td>0.0</td>\n",
       "      <td>0.0</td>\n",
       "      <td>0.0</td>\n",
       "      <td>...</td>\n",
       "      <td>0.0</td>\n",
       "      <td>0.000000</td>\n",
       "      <td>0.0</td>\n",
       "      <td>0.0</td>\n",
       "      <td>0.0</td>\n",
       "      <td>0.0</td>\n",
       "      <td>0.0</td>\n",
       "      <td>0.0</td>\n",
       "      <td>0.0</td>\n",
       "      <td>0</td>\n",
       "    </tr>\n",
       "    <tr>\n",
       "      <th>49997</th>\n",
       "      <td>0.0</td>\n",
       "      <td>0.0</td>\n",
       "      <td>0.0</td>\n",
       "      <td>0.000000</td>\n",
       "      <td>0.0</td>\n",
       "      <td>0.0</td>\n",
       "      <td>0.0</td>\n",
       "      <td>0.0</td>\n",
       "      <td>0.0</td>\n",
       "      <td>0.0</td>\n",
       "      <td>...</td>\n",
       "      <td>0.0</td>\n",
       "      <td>0.000000</td>\n",
       "      <td>0.0</td>\n",
       "      <td>0.0</td>\n",
       "      <td>0.0</td>\n",
       "      <td>0.0</td>\n",
       "      <td>0.0</td>\n",
       "      <td>0.0</td>\n",
       "      <td>0.0</td>\n",
       "      <td>1</td>\n",
       "    </tr>\n",
       "    <tr>\n",
       "      <th>49998</th>\n",
       "      <td>0.0</td>\n",
       "      <td>0.0</td>\n",
       "      <td>0.0</td>\n",
       "      <td>0.000000</td>\n",
       "      <td>0.0</td>\n",
       "      <td>0.0</td>\n",
       "      <td>0.0</td>\n",
       "      <td>0.0</td>\n",
       "      <td>0.0</td>\n",
       "      <td>0.0</td>\n",
       "      <td>...</td>\n",
       "      <td>0.0</td>\n",
       "      <td>0.000000</td>\n",
       "      <td>0.0</td>\n",
       "      <td>0.0</td>\n",
       "      <td>0.0</td>\n",
       "      <td>0.0</td>\n",
       "      <td>0.0</td>\n",
       "      <td>0.0</td>\n",
       "      <td>0.0</td>\n",
       "      <td>0</td>\n",
       "    </tr>\n",
       "    <tr>\n",
       "      <th>49999</th>\n",
       "      <td>0.0</td>\n",
       "      <td>0.0</td>\n",
       "      <td>0.0</td>\n",
       "      <td>0.000000</td>\n",
       "      <td>0.0</td>\n",
       "      <td>0.0</td>\n",
       "      <td>0.0</td>\n",
       "      <td>0.0</td>\n",
       "      <td>0.0</td>\n",
       "      <td>0.0</td>\n",
       "      <td>...</td>\n",
       "      <td>0.0</td>\n",
       "      <td>0.297409</td>\n",
       "      <td>0.0</td>\n",
       "      <td>0.0</td>\n",
       "      <td>0.0</td>\n",
       "      <td>0.0</td>\n",
       "      <td>0.0</td>\n",
       "      <td>0.0</td>\n",
       "      <td>0.0</td>\n",
       "      <td>0</td>\n",
       "    </tr>\n",
       "  </tbody>\n",
       "</table>\n",
       "<p>50000 rows × 1648 columns</p>\n",
       "</div>"
      ],
      "text/plain": [
       "       \\r\\n\\r\\ni  \\r\\n\\r\\nthe    0         1  1 day  1 month   10  10 day  \\\n",
       "0            0.0          0.0  0.0  0.000000    0.0      0.0  0.0     0.0   \n",
       "1            0.0          0.0  0.0  0.000000    0.0      0.0  0.0     0.0   \n",
       "2            0.0          0.0  0.0  0.252649    0.0      0.0  0.0     0.0   \n",
       "3            0.0          0.0  0.0  0.000000    0.0      0.0  0.0     0.0   \n",
       "4            0.0          0.0  0.0  0.000000    0.0      0.0  0.0     0.0   \n",
       "...          ...          ...  ...       ...    ...      ...  ...     ...   \n",
       "49995        0.0          0.0  0.0  0.000000    0.0      0.0  0.0     0.0   \n",
       "49996        0.0          0.0  0.0  0.000000    0.0      0.0  0.0     0.0   \n",
       "49997        0.0          0.0  0.0  0.000000    0.0      0.0  0.0     0.0   \n",
       "49998        0.0          0.0  0.0  0.000000    0.0      0.0  0.0     0.0   \n",
       "49999        0.0          0.0  0.0  0.000000    0.0      0.0  0.0     0.0   \n",
       "\n",
       "       100  10000  ...  year      yelp  yesterday  yet  youll  your  youtub  \\\n",
       "0      0.0    0.0  ...   0.0  0.000000        0.0  0.0    0.0   0.0     0.0   \n",
       "1      0.0    0.0  ...   0.0  0.000000        0.0  0.0    0.0   0.0     0.0   \n",
       "2      0.0    0.0  ...   0.0  0.000000        0.0  0.0    0.0   0.0     0.0   \n",
       "3      0.0    0.0  ...   0.0  0.000000        0.0  0.0    0.0   0.0     0.0   \n",
       "4      0.0    0.0  ...   0.0  0.000000        0.0  0.0    0.0   0.0     0.0   \n",
       "...    ...    ...  ...   ...       ...        ...  ...    ...   ...     ...   \n",
       "49995  0.0    0.0  ...   0.0  0.000000        0.0  0.0    0.0   0.0     0.0   \n",
       "49996  0.0    0.0  ...   0.0  0.000000        0.0  0.0    0.0   0.0     0.0   \n",
       "49997  0.0    0.0  ...   0.0  0.000000        0.0  0.0    0.0   0.0     0.0   \n",
       "49998  0.0    0.0  ...   0.0  0.000000        0.0  0.0    0.0   0.0     0.0   \n",
       "49999  0.0    0.0  ...   0.0  0.297409        0.0  0.0    0.0   0.0     0.0   \n",
       "\n",
       "       yummi  zoom  label  \n",
       "0        0.0   0.0      2  \n",
       "1        0.0   0.0      2  \n",
       "2        0.0   0.0      2  \n",
       "3        0.0   0.0      2  \n",
       "4        0.0   0.0      0  \n",
       "...      ...   ...    ...  \n",
       "49995    0.0   0.0      2  \n",
       "49996    0.0   0.0      0  \n",
       "49997    0.0   0.0      1  \n",
       "49998    0.0   0.0      0  \n",
       "49999    0.0   0.0      0  \n",
       "\n",
       "[50000 rows x 1648 columns]"
      ]
     },
     "metadata": {},
     "output_type": "display_data"
    }
   ],
   "source": [
    "IdfDF = pd.DataFrame(columns = sentWordsIdf.get_feature_names(), data = X_Idf.toarray())\n",
    "IdfDF['label'] = y\n",
    "display(IdfDF)"
   ]
  },
  {
   "cell_type": "code",
   "execution_count": 13,
   "metadata": {},
   "outputs": [
    {
     "name": "stdout",
     "output_type": "stream",
     "text": [
      "5000                   0.359667\n",
      "5000 mah               0.378035\n",
      "batteri                0.160454\n",
      "big                    0.300573\n",
      "camera                 0.153798\n",
      "camera qualiti         0.224137\n",
      "camera qualiti good    0.318046\n",
      "good                   0.260738\n",
      "good mobil             0.333613\n",
      "mah                    0.327722\n",
      "mobil                  0.195968\n",
      "qualiti                0.175102\n",
      "qualiti good           0.284338\n",
      "label                  2.000000\n",
      "Name: 0, dtype: float64\n",
      "\n",
      "Original Text: good mobile. battery is 5000 mah is very big. camera quality very good.\n",
      "Original Label: 2\n"
     ]
    }
   ],
   "source": [
    "check = IdfDF.loc[0]\n",
    "check.where(check > 0, inplace = True)\n",
    "check.dropna(inplace = True)\n",
    "print(check)\n",
    "print()\n",
    "print(f\"Original Text: {sentTrain.iloc[0,1]}\")\n",
    "print(f\"Original Label: {sentTrain.iloc[0,2]}\")"
   ]
  },
  {
   "cell_type": "code",
   "execution_count": 14,
   "metadata": {},
   "outputs": [
    {
     "data": {
      "image/png": "[encoded data removed]",
      "text/plain": [
       "<Figure size 1152x576 with 1 Axes>"
      ]
     },
     "metadata": {
      "needs_background": "light"
     },
     "output_type": "display_data"
    }
   ],
   "source": [
    "wordCountsIdf = X_Idf.toarray().sum(axis=0)\n",
    "wordsIdf = sentWordsIdf.get_feature_names()\n",
    "\n",
    "wrodsDF = plot_most_frequent(wordsIdf, wordCountsIdf)"
   ]
  },
  {
   "cell_type": "code",
   "execution_count": 15,
   "metadata": {},
   "outputs": [
    {
     "name": "stdout",
     "output_type": "stream",
     "text": [
      "Shapes: ((50000, 1650), (50000,))\n"
     ]
    }
   ],
   "source": [
    "XVec = VecDF.iloc[:, :-1]\n",
    "yVec = VecDF.iloc[:,-1]\n",
    "print(f\"Shapes: {XVec.shape, yVec.shape}\")"
   ]
  },
  {
   "cell_type": "code",
   "execution_count": 16,
   "metadata": {},
   "outputs": [
    {
     "name": "stdout",
     "output_type": "stream",
     "text": [
      "Train Shapes: ((33500, 1650), (33500,))\n",
      "Val Shapes: ((16500, 1650), (16500,))\n"
     ]
    }
   ],
   "source": [
    "X_trainVec, X_valVec, y_trainVec, y_valVec = train_test_split(XVec, yVec, test_size=0.33, random_state=12)\n",
    "print(f\"Train Shapes: {X_trainVec.shape, y_trainVec.shape}\")\n",
    "print(f\"Val Shapes: {X_valVec.shape, y_valVec.shape}\")"
   ]
  },
  {
   "cell_type": "code",
   "execution_count": 17,
   "metadata": {},
   "outputs": [
    {
     "name": "stdout",
     "output_type": "stream",
     "text": [
      "C=1000000000.0\r"
     ]
    }
   ],
   "source": [
    "valScores = []\n",
    "trainScores = []\n",
    "cVals = []\n",
    "C_range = np.array([.00000001,.0000001,.000001,.00001,.0001,.001,0.1,1,10,100,1000,10000,100000,1000000,10000000,100000000,1000000000])\n",
    "\n",
    "# Check to see if a pre-run model exists - done to save time when re-running and testing the project\n",
    "if (os.path.exists('preRunModels/valScores.joblib') & os.path.exists('preRunModels/trainScores.joblib') & os.path.exists('preRunModels/cVals.joblib')):\n",
    "    valScores = joblib.load('preRunModels/valScores.joblib')\n",
    "    trainScores = joblib.load('preRunModels/trainScores.joblib')\n",
    "    cVals = joblib.load('preRunModels/cVals.joblib')\n",
    "    print(\"Pre-run model will be loaded\")\n",
    "# If no pre-run models exist...\n",
    "else:\n",
    "    for c in C_range:\n",
    "        my_logreg = LogisticRegression(solver='lbfgs', C = c, random_state = 12)\n",
    "        my_logreg.fit(X_trainVec, y_trainVec)\n",
    "\n",
    "        trainScores.append(my_logreg.score(X_trainVec, y_trainVec))\n",
    "        valScores.append(my_logreg.score(X_valVec, y_valVec))\n",
    "        cVals.append(c)\n",
    "    \n",
    "        # Print progress through the loop\n",
    "        print(f\"C={c}\", end=\"\\r\")\n",
    "        \n",
    "    # Save the model result lists for loading in the futrure\n",
    "    joblib.dump(valScores, 'preRunModels/valScores.joblib')\n",
    "    joblib.dump(trainScores, 'preRunModels/trainScores.joblib')\n",
    "    joblib.dump(cVals, 'preRunModels/cVals.joblib')\n",
    "        \n",
    "bestCValVec = cVals[np.argmax(valScores)]"
   ]
  },
  {
   "cell_type": "code",
   "execution_count": 18,
   "metadata": {},
   "outputs": [
    {
     "data": {
      "image/png": "[encoded data removed]",
      "text/plain": [
       "<Figure size 1152x576 with 1 Axes>"
      ]
     },
     "metadata": {
      "needs_background": "light"
     },
     "output_type": "display_data"
    },
    {
     "name": "stdout",
     "output_type": "stream",
     "text": [
      "The c-calue with the highest valuation score is 0.1\n"
     ]
    }
   ],
   "source": [
    "plt.figure(figsize = (16,8))\n",
    "plt.plot(C_range, trainScores,label=\"Train Score\")\n",
    "plt.plot(C_range, valScores,label=\"Validation Scores\")\n",
    "plt.xscale('log')\n",
    "plt.xlabel('C')\n",
    "plt.ylabel('Accuracy')\n",
    "plt.legend()\n",
    "plt.show()\n",
    "print(f\"The c-calue with the highest valuation score is {bestCValVec}\")"
   ]
  },
  {
   "cell_type": "code",
   "execution_count": 19,
   "metadata": {},
   "outputs": [
    {
     "name": "stdout",
     "output_type": "stream",
     "text": [
      "Logestical Regression Train: 0.7398805970149254\n",
      "Logestical Regression Valuation: 0.7024848484848485\n",
      "Wall time: 13.6 s\n"
     ]
    }
   ],
   "source": [
    "%%time\n",
    "logitVec = LogisticRegression(solver='lbfgs', C = bestCValVec, random_state = 12)\n",
    "\n",
    "logitVec.fit(X_trainVec, y_trainVec)\n",
    "\n",
    "print(f\"Logestical Regression Train: {logitVec.score(X_trainVec, y_trainVec)}\")\n",
    "print(f\"Logestical Regression Valuation: {logitVec.score(X_valVec, y_valVec)}\")"
   ]
  },
  {
   "cell_type": "code",
   "execution_count": 20,
   "metadata": {},
   "outputs": [
    {
     "name": "stdout",
     "output_type": "stream",
     "text": [
      "Shapes: ((50000, 1647), (50000,))\n"
     ]
    }
   ],
   "source": [
    "XIdf = IdfDF.iloc[:, :-1]\n",
    "yIdf = IdfDF.iloc[:,-1]\n",
    "print(f\"Shapes: {XIdf.shape, yIdf.shape}\")"
   ]
  },
  {
   "cell_type": "code",
   "execution_count": 21,
   "metadata": {},
   "outputs": [
    {
     "name": "stdout",
     "output_type": "stream",
     "text": [
      "Train Shapes: ((33500, 1647), (33500,))\n",
      "Val Shapes: ((16500, 1650), (16500,))\n"
     ]
    }
   ],
   "source": [
    "X_trainIdf, X_valIdf, y_trainIdf, y_valIdf = train_test_split(XIdf, yIdf, test_size=0.33, random_state=12)\n",
    "print(f\"Train Shapes: {X_trainIdf.shape, y_trainIdf.shape}\")\n",
    "print(f\"Val Shapes: {X_valIdf.shape, y_valIdf.shape}\")"
   ]
  },
  {
   "cell_type": "code",
   "execution_count": 22,
   "metadata": {},
   "outputs": [
    {
     "name": "stdout",
     "output_type": "stream",
     "text": [
      "C=1000000000.0\r"
     ]
    }
   ],
   "source": [
    "valScores2 = []\n",
    "trainScores2 = []\n",
    "cVals2 = []\n",
    "C_range = np.array([.00000001,.0000001,.000001,.00001,.0001,.001,0.1,1,10,100,1000,10000,100000,1000000,10000000,100000000,1000000000])\n",
    "\n",
    "# Check to see if a pre-run model exists - done to save time when re-running and testing the project\n",
    "if (os.path.exists('preRunModels/valScores2.joblib') & os.path.exists('preRunModels/trainScores2.joblib') & os.path.exists('preRunModels/cVals2.joblib')):\n",
    "    valScores2 = joblib.load('preRunModels/valScores2.joblib')\n",
    "    trainScores2 = joblib.load('preRunModels/trainScores2.joblib')\n",
    "    cVals2 = joblib.load('preRunModels/cVals2.joblib')\n",
    "    print(\"Pre-run model will be loaded\")\n",
    "# If no pre-run models exist...\n",
    "else:\n",
    "    for c in C_range:\n",
    "        my_logreg = LogisticRegression(solver='lbfgs', C = c, random_state = 12)\n",
    "        my_logreg.fit(X_trainIdf, y_trainIdf)\n",
    "\n",
    "        trainScores2.append(my_logreg.score(X_trainIdf, y_trainIdf))\n",
    "        valScores2.append(my_logreg.score(X_valIdf, y_valIdf))\n",
    "        cVals2.append(c)\n",
    "    \n",
    "        # Print progress through the loop\n",
    "        print(f\"C={c}\", end=\"\\r\")\n",
    "        \n",
    "    # Save the model result lists for loading in the futrure\n",
    "    joblib.dump(valScores2, 'preRunModels/valScores2.joblib')\n",
    "    joblib.dump(trainScores2, 'preRunModels/trainScores2.joblib')\n",
    "    joblib.dump(cVals2, 'preRunModels/cVals2.joblib')\n",
    "        \n",
    "bestCValIdf = cVals2[np.argmax(valScores2)]"
   ]
  },
  {
   "cell_type": "code",
   "execution_count": 24,
   "metadata": {},
   "outputs": [
    {
     "data": {
      "image/png": "[encoded data removed]",
      "text/plain": [
       "<Figure size 1152x576 with 1 Axes>"
      ]
     },
     "metadata": {
      "needs_background": "light"
     },
     "output_type": "display_data"
    },
    {
     "name": "stdout",
     "output_type": "stream",
     "text": [
      "The c-calue with the highest valuation score is 1.0\n"
     ]
    }
   ],
   "source": [
    "plt.figure(figsize = (16,8))\n",
    "plt.plot(C_range, trainScores2, label=\"Train Score\")\n",
    "plt.plot(C_range, valScores2, label=\"Validation Scores\")\n",
    "plt.xscale('log')\n",
    "plt.xlabel('C')\n",
    "plt.ylabel('Accuracy')\n",
    "plt.legend()\n",
    "plt.show()\n",
    "print(f\"The c-calue with the highest valuation score is {bestCValIdf}\")"
   ]
  },
  {
   "cell_type": "code",
   "execution_count": 25,
   "metadata": {},
   "outputs": [
    {
     "name": "stdout",
     "output_type": "stream",
     "text": [
      "Logestical Regression Train: 0.7524179104477612\n",
      "Logestical Regression Valuation: 0.7163030303030303\n",
      "Wall time: 13.8 s\n"
     ]
    }
   ],
   "source": [
    "%%time\n",
    "logitIdf = LogisticRegression(solver='lbfgs', C = bestCValIdf, random_state = 12)\n",
    "\n",
    "logitIdf.fit(X_trainIdf, y_trainIdf)\n",
    "\n",
    "print(f\"Logestical Regression Train: {logitIdf.score(X_trainIdf, y_trainIdf)}\")\n",
    "print(f\"Logestical Regression Valuation: {logitIdf.score(X_valIdf, y_valIdf)}\")"
   ]
  },
  {
   "cell_type": "markdown",
   "metadata": {},
   "source": [
    "Add PCA and CV   \n",
    "SVC   \n",
    "KNN   \n",
    "DT   "
   ]
  },
  {
   "cell_type": "code",
   "execution_count": 30,
   "metadata": {},
   "outputs": [
    {
     "data": {
      "text/plain": [
       "(array([750, 751, 752, 753, 754, 755, 756, 757, 758, 759, 760, 761, 762,\n",
       "        763, 764, 765, 766, 767, 768, 769, 770, 771, 772, 773, 774, 775,\n",
       "        776, 777, 778, 779, 780, 781, 782, 783, 784, 785, 786, 787, 788,\n",
       "        789, 790, 791, 792, 793, 794, 795, 796, 797], dtype=int64),)"
      ]
     },
     "execution_count": 30,
     "metadata": {},
     "output_type": "execute_result"
    }
   ],
   "source": [
    "vecPcaCheck = PCA(n_components = X_trainVec.shape[1])\n",
    "vecPcaCheck.fit(X_trainVec)\n",
    "\n",
    "explVar = vecPCACheck.explained_variance_ratio_.cumsum()\n",
    "np.where((explVar >= 0.9) & (explVar <= 0.91))"
   ]
  },
  {
   "cell_type": "code",
   "execution_count": 32,
   "metadata": {},
   "outputs": [],
   "source": [
    "vecPCA = PCA(n_components=750)\n",
    "\n",
    "vecPCA.fit(X_trainVec)\n",
    "\n",
    "XVecTrainPCA = vecPCA.transform(X_trainVec)\n",
    "XVecValPCA = vecPCA.transform(X_valVec)"
   ]
  },
  {
   "cell_type": "code",
   "execution_count": 33,
   "metadata": {},
   "outputs": [
    {
     "name": "stdout",
     "output_type": "stream",
     "text": [
      "Logestical Regression Train: 0.722089552238806\n",
      "Logestical Regression Valuation: 0.6971515151515152\n"
     ]
    }
   ],
   "source": [
    "logitVec.fit(XVecTrainPCA, y_trainVec)\n",
    "\n",
    "print(f\"Logestical Regression Train: {logitVec.score(XVecTrainPCA, y_trainVec)}\")\n",
    "print(f\"Logestical Regression Valuation: {logitVec.score(XVecValPCA, y_valVec)}\")"
   ]
  },
  {
   "cell_type": "code",
   "execution_count": 34,
   "metadata": {},
   "outputs": [
    {
     "data": {
      "text/plain": [
       "(array([ 981,  982,  983,  984,  985,  986,  987,  988,  989,  990,  991,\n",
       "         992,  993,  994,  995,  996,  997,  998,  999, 1000, 1001, 1002,\n",
       "        1003, 1004, 1005, 1006, 1007, 1008, 1009, 1010, 1011, 1012, 1013,\n",
       "        1014, 1015, 1016, 1017, 1018, 1019, 1020, 1021, 1022], dtype=int64),)"
      ]
     },
     "execution_count": 34,
     "metadata": {},
     "output_type": "execute_result"
    }
   ],
   "source": [
    "idfPcaCheck = PCA(n_components = X_trainIdf.shape[1])\n",
    "idfPcaCheck.fit(X_trainIdf)\n",
    "\n",
    "explVar = idfPcaCheck.explained_variance_ratio_.cumsum()\n",
    "np.where((explVar >= 0.9) & (explVar <= 0.91))"
   ]
  },
  {
   "cell_type": "code",
   "execution_count": 35,
   "metadata": {},
   "outputs": [],
   "source": [
    "idfPCA = PCA(n_components=981)\n",
    "\n",
    "idfPCA.fit(X_trainIdf)\n",
    "\n",
    "XIdfTrainPCA = idfPCA.transform(X_trainIdf)\n",
    "XIdfValPCA = idfPCA.transform(X_valIdf)"
   ]
  },
  {
   "cell_type": "code",
   "execution_count": 36,
   "metadata": {},
   "outputs": [
    {
     "name": "stdout",
     "output_type": "stream",
     "text": [
      "Logestical Regression Train: 0.7407462686567164\n",
      "Logestical Regression Valuation: 0.7137575757575758\n"
     ]
    }
   ],
   "source": [
    "logitIdf.fit(XIdfTrainPCA, y_trainIdf)\n",
    "\n",
    "print(f\"Logestical Regression Train: {logitIdf.score(XIdfTrainPCA, y_trainIdf)}\")\n",
    "print(f\"Logestical Regression Valuation: {logitIdf.score(XIdfValPCA, y_valIdf)}\")"
   ]
  }
 ],
 "metadata": {
  "kernelspec": {
   "display_name": "Python 3",
   "language": "python",
   "name": "python3"
  },
  "language_info": {
   "codemirror_mode": {
    "name": "ipython",
    "version": 3
   },
   "file_extension": ".py",
   "mimetype": "text/x-python",
   "name": "python",
   "nbconvert_exporter": "python",
   "pygments_lexer": "ipython3",
   "version": "3.8.3"
  }
 },
 "nbformat": 4,
 "nbformat_minor": 4
}
