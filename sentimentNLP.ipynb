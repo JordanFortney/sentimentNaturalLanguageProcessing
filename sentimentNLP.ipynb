{
 "cells": [
  {
   "cell_type": "code",
   "execution_count": 1,
   "metadata": {},
   "outputs": [],
   "source": [
    "import pandas as pd\n",
    "import numpy as np\n",
    "import matplotlib.pyplot as plt\n",
    "import seaborn as sns\n",
    "import joblib\n",
    "import os.path\n",
    "import time\n",
    "from sklearn.model_selection import train_test_split\n",
    "import nltk\n",
    "import string\n",
    "from nltk.corpus import stopwords \n",
    "from sklearn.feature_extraction.text import CountVectorizer\n",
    "from sklearn.feature_extraction.text import TfidfVectorizer\n",
    "from sklearn.linear_model import LogisticRegression\n",
    "from sklearn.decomposition import PCA\n",
    "from sklearn.svm import SVC\n",
    "from sklearn.neighbors import KNeighborsClassifier\n",
    "from sklearn.tree import DecisionTreeClassifier\n",
    "from sklearn.ensemble import RandomForestClassifier\n",
    "\n",
    "from sklearn.metrics import accuracy_score\n",
    "from sklearn.metrics import precision_score\n",
    "from sklearn.metrics import recall_score\n",
    "from sklearn.metrics import plot_confusion_matrix\n",
    "from sklearn.metrics import ConfusionMatrixDisplay\n",
    "\n",
    "import warnings\n",
    "warnings.filterwarnings('ignore')"
   ]
  },
  {
   "cell_type": "code",
   "execution_count": 2,
   "metadata": {},
   "outputs": [
    {
     "data": {
      "text/html": [
       "<div>\n",
       "<style scoped>\n",
       "    .dataframe tbody tr th:only-of-type {\n",
       "        vertical-align: middle;\n",
       "    }\n",
       "\n",
       "    .dataframe tbody tr th {\n",
       "        vertical-align: top;\n",
       "    }\n",
       "\n",
       "    .dataframe thead th {\n",
       "        text-align: right;\n",
       "    }\n",
       "</style>\n",
       "<table border=\"1\" class=\"dataframe\">\n",
       "  <thead>\n",
       "    <tr style=\"text-align: right;\">\n",
       "      <th></th>\n",
       "      <th>sentiment</th>\n",
       "      <th>text</th>\n",
       "      <th>label</th>\n",
       "    </tr>\n",
       "  </thead>\n",
       "  <tbody>\n",
       "    <tr>\n",
       "      <th>0</th>\n",
       "      <td>positive</td>\n",
       "      <td>good mobile. battery is 5000 mah is very big. ...</td>\n",
       "      <td>2</td>\n",
       "    </tr>\n",
       "    <tr>\n",
       "      <th>1</th>\n",
       "      <td>positive</td>\n",
       "      <td>Overall in hand ecpirience is quite good matt ...</td>\n",
       "      <td>2</td>\n",
       "    </tr>\n",
       "    <tr>\n",
       "      <th>2</th>\n",
       "      <td>positive</td>\n",
       "      <td>1. Superb Camera,\\r\\n2. No lag\\r\\n3. This is m...</td>\n",
       "      <td>2</td>\n",
       "    </tr>\n",
       "    <tr>\n",
       "      <th>3</th>\n",
       "      <td>positive</td>\n",
       "      <td>Bigger size of application names doesn't allow...</td>\n",
       "      <td>2</td>\n",
       "    </tr>\n",
       "    <tr>\n",
       "      <th>4</th>\n",
       "      <td>negative</td>\n",
       "      <td>Just a hype of stock android which is not flaw...</td>\n",
       "      <td>0</td>\n",
       "    </tr>\n",
       "  </tbody>\n",
       "</table>\n",
       "</div>"
      ],
      "text/plain": [
       "  sentiment                                               text  label\n",
       "0  positive  good mobile. battery is 5000 mah is very big. ...      2\n",
       "1  positive  Overall in hand ecpirience is quite good matt ...      2\n",
       "2  positive  1. Superb Camera,\\r\\n2. No lag\\r\\n3. This is m...      2\n",
       "3  positive  Bigger size of application names doesn't allow...      2\n",
       "4  negative  Just a hype of stock android which is not flaw...      0"
      ]
     },
     "metadata": {},
     "output_type": "display_data"
    },
    {
     "data": {
      "text/plain": [
       "(50000, 3)"
      ]
     },
     "metadata": {},
     "output_type": "display_data"
    }
   ],
   "source": [
    "sentTrain = pd.read_csv('generic_sentiment_dataset_50k.csv')\n",
    "display(sentTrain.head())\n",
    "display(sentTrain.shape)"
   ]
  },
  {
   "cell_type": "code",
   "execution_count": 3,
   "metadata": {},
   "outputs": [
    {
     "data": {
      "image/png": "[encoded data removed]",
      "text/plain": [
       "<Figure size 1152x576 with 1 Axes>"
      ]
     },
     "metadata": {
      "needs_background": "light"
     },
     "output_type": "display_data"
    }
   ],
   "source": [
    "values, counts = np.unique(sentTrain['label'], return_counts=True)\n",
    "normalized_counts = counts/counts.sum()\n",
    "\n",
    "plt.figure(figsize = (16,8))\n",
    "plt.bar(values, normalized_counts*100)\n",
    "plt.xlabel('Text Label')\n",
    "plt.xticks([0,1,2])\n",
    "plt.ylabel('% of Reviews')\n",
    "plt.title(\"Sentiment Label Distribution\")\n",
    "plt.show()"
   ]
  },
  {
   "cell_type": "code",
   "execution_count": 4,
   "metadata": {},
   "outputs": [],
   "source": [
    "# Provided to me during my Data Science diploma program\n",
    "\n",
    "ENGLISH_STOP_WORDS = stopwords.words('english')\n",
    "\n",
    "def customTokenizer(sentence):\n",
    "    # remove punctuation and set to lower case\n",
    "    for punctuation_mark in string.punctuation:\n",
    "        sentence = sentence.replace(punctuation_mark,'').lower()\n",
    "\n",
    "    # split sentence into words\n",
    "    listofwords = sentence.split(' ')\n",
    "    listofstemmed_words = []\n",
    "    \n",
    "    stemmer = nltk.stem.PorterStemmer()\n",
    "    \n",
    "    # remove stopwords and any tokens that are just empty strings\n",
    "    for word in listofwords:\n",
    "        if (not word in ENGLISH_STOP_WORDS) and (word!=''):\n",
    "            # Stem words\n",
    "            stemmed_word = stemmer.stem(word)\n",
    "            listofstemmed_words.append(stemmed_word)\n",
    "\n",
    "    return listofstemmed_words"
   ]
  },
  {
   "cell_type": "code",
   "execution_count": 5,
   "metadata": {},
   "outputs": [],
   "source": [
    "X = sentTrain['text']\n",
    "y = sentTrain['label']"
   ]
  },
  {
   "cell_type": "code",
   "execution_count": 6,
   "metadata": {},
   "outputs": [],
   "source": [
    "if (os.path.exists('preRunModels/sentWordsVec.joblib')):\n",
    "    sentWordsVec = joblib.load('preRunModels/sentWordsVec.joblib')\n",
    "else:\n",
    "    sentWordsVec = CountVectorizer(min_df = 75, \n",
    "                                   tokenizer = customTokenizer,\n",
    "                                   ngram_range = (1,3))\n",
    "    \n",
    "    # Save the model result lists for loading in the futrure\n",
    "    joblib.dump(sentWordsVec, 'preRunModels/sentWordsVec.joblib')\n",
    "    \n",
    "sentWordsVec.fit(X)\n",
    "X_Vec = sentWordsVec.transform(X)"
   ]
  },
  {
   "cell_type": "code",
   "execution_count": 7,
   "metadata": {},
   "outputs": [],
   "source": [
    "if (os.path.exists('preRunModels/sentWordsIdf.joblib')):\n",
    "    sentWordsIdf = joblib.load('preRunModels/sentWordsIdf.joblib')\n",
    "else:\n",
    "    sentWordsIdf = TfidfVectorizer(min_df = 75, \n",
    "                                   tokenizer = customTokenizer,\n",
    "                                   ngram_range = (1,3),\n",
    "                                   strip_accents = 'ascii')\n",
    "    # Save the model result lists for loading in the futrure\n",
    "    joblib.dump(sentWordsIdf, 'preRunModels/sentWordsIdf.joblib')\n",
    "    \n",
    "sentWordsIdf.fit(X)\n",
    "X_Idf = sentWordsIdf.transform(X)"
   ]
  },
  {
   "cell_type": "code",
   "execution_count": 8,
   "metadata": {},
   "outputs": [
    {
     "data": {
      "text/html": [
       "<div>\n",
       "<style scoped>\n",
       "    .dataframe tbody tr th:only-of-type {\n",
       "        vertical-align: middle;\n",
       "    }\n",
       "\n",
       "    .dataframe tbody tr th {\n",
       "        vertical-align: top;\n",
       "    }\n",
       "\n",
       "    .dataframe thead th {\n",
       "        text-align: right;\n",
       "    }\n",
       "</style>\n",
       "<table border=\"1\" class=\"dataframe\">\n",
       "  <thead>\n",
       "    <tr style=\"text-align: right;\">\n",
       "      <th></th>\n",
       "      <th>\\r\\n\\r\\ni</th>\n",
       "      <th>\\r\\n\\r\\nthe</th>\n",
       "      <th>0</th>\n",
       "      <th>1</th>\n",
       "      <th>1 day</th>\n",
       "      <th>1 month</th>\n",
       "      <th>10</th>\n",
       "      <th>10 day</th>\n",
       "      <th>100</th>\n",
       "      <th>10000</th>\n",
       "      <th>...</th>\n",
       "      <th>your</th>\n",
       "      <th>youtub</th>\n",
       "      <th>yummi</th>\n",
       "      <th>zoom</th>\n",
       "      <th>…</th>\n",
       "      <th>🇺🇸</th>\n",
       "      <th>🇺🇸 gopdeb</th>\n",
       "      <th>🇺🇸 gopdeb gopdeb</th>\n",
       "      <th>👍</th>\n",
       "      <th>label</th>\n",
       "    </tr>\n",
       "  </thead>\n",
       "  <tbody>\n",
       "    <tr>\n",
       "      <th>0</th>\n",
       "      <td>0</td>\n",
       "      <td>0</td>\n",
       "      <td>0</td>\n",
       "      <td>0</td>\n",
       "      <td>0</td>\n",
       "      <td>0</td>\n",
       "      <td>0</td>\n",
       "      <td>0</td>\n",
       "      <td>0</td>\n",
       "      <td>0</td>\n",
       "      <td>...</td>\n",
       "      <td>0</td>\n",
       "      <td>0</td>\n",
       "      <td>0</td>\n",
       "      <td>0</td>\n",
       "      <td>0</td>\n",
       "      <td>0</td>\n",
       "      <td>0</td>\n",
       "      <td>0</td>\n",
       "      <td>0</td>\n",
       "      <td>2</td>\n",
       "    </tr>\n",
       "    <tr>\n",
       "      <th>1</th>\n",
       "      <td>0</td>\n",
       "      <td>0</td>\n",
       "      <td>0</td>\n",
       "      <td>0</td>\n",
       "      <td>0</td>\n",
       "      <td>0</td>\n",
       "      <td>0</td>\n",
       "      <td>0</td>\n",
       "      <td>0</td>\n",
       "      <td>0</td>\n",
       "      <td>...</td>\n",
       "      <td>0</td>\n",
       "      <td>0</td>\n",
       "      <td>0</td>\n",
       "      <td>0</td>\n",
       "      <td>0</td>\n",
       "      <td>0</td>\n",
       "      <td>0</td>\n",
       "      <td>0</td>\n",
       "      <td>0</td>\n",
       "      <td>2</td>\n",
       "    </tr>\n",
       "    <tr>\n",
       "      <th>2</th>\n",
       "      <td>0</td>\n",
       "      <td>0</td>\n",
       "      <td>0</td>\n",
       "      <td>1</td>\n",
       "      <td>0</td>\n",
       "      <td>0</td>\n",
       "      <td>0</td>\n",
       "      <td>0</td>\n",
       "      <td>0</td>\n",
       "      <td>0</td>\n",
       "      <td>...</td>\n",
       "      <td>0</td>\n",
       "      <td>0</td>\n",
       "      <td>0</td>\n",
       "      <td>0</td>\n",
       "      <td>0</td>\n",
       "      <td>0</td>\n",
       "      <td>0</td>\n",
       "      <td>0</td>\n",
       "      <td>0</td>\n",
       "      <td>2</td>\n",
       "    </tr>\n",
       "    <tr>\n",
       "      <th>3</th>\n",
       "      <td>0</td>\n",
       "      <td>0</td>\n",
       "      <td>0</td>\n",
       "      <td>0</td>\n",
       "      <td>0</td>\n",
       "      <td>0</td>\n",
       "      <td>0</td>\n",
       "      <td>0</td>\n",
       "      <td>0</td>\n",
       "      <td>0</td>\n",
       "      <td>...</td>\n",
       "      <td>0</td>\n",
       "      <td>0</td>\n",
       "      <td>0</td>\n",
       "      <td>0</td>\n",
       "      <td>0</td>\n",
       "      <td>0</td>\n",
       "      <td>0</td>\n",
       "      <td>0</td>\n",
       "      <td>0</td>\n",
       "      <td>2</td>\n",
       "    </tr>\n",
       "    <tr>\n",
       "      <th>4</th>\n",
       "      <td>0</td>\n",
       "      <td>0</td>\n",
       "      <td>0</td>\n",
       "      <td>0</td>\n",
       "      <td>0</td>\n",
       "      <td>0</td>\n",
       "      <td>0</td>\n",
       "      <td>0</td>\n",
       "      <td>0</td>\n",
       "      <td>0</td>\n",
       "      <td>...</td>\n",
       "      <td>0</td>\n",
       "      <td>0</td>\n",
       "      <td>0</td>\n",
       "      <td>0</td>\n",
       "      <td>0</td>\n",
       "      <td>0</td>\n",
       "      <td>0</td>\n",
       "      <td>0</td>\n",
       "      <td>0</td>\n",
       "      <td>0</td>\n",
       "    </tr>\n",
       "    <tr>\n",
       "      <th>...</th>\n",
       "      <td>...</td>\n",
       "      <td>...</td>\n",
       "      <td>...</td>\n",
       "      <td>...</td>\n",
       "      <td>...</td>\n",
       "      <td>...</td>\n",
       "      <td>...</td>\n",
       "      <td>...</td>\n",
       "      <td>...</td>\n",
       "      <td>...</td>\n",
       "      <td>...</td>\n",
       "      <td>...</td>\n",
       "      <td>...</td>\n",
       "      <td>...</td>\n",
       "      <td>...</td>\n",
       "      <td>...</td>\n",
       "      <td>...</td>\n",
       "      <td>...</td>\n",
       "      <td>...</td>\n",
       "      <td>...</td>\n",
       "      <td>...</td>\n",
       "    </tr>\n",
       "    <tr>\n",
       "      <th>49995</th>\n",
       "      <td>0</td>\n",
       "      <td>0</td>\n",
       "      <td>0</td>\n",
       "      <td>0</td>\n",
       "      <td>0</td>\n",
       "      <td>0</td>\n",
       "      <td>0</td>\n",
       "      <td>0</td>\n",
       "      <td>0</td>\n",
       "      <td>0</td>\n",
       "      <td>...</td>\n",
       "      <td>0</td>\n",
       "      <td>0</td>\n",
       "      <td>0</td>\n",
       "      <td>0</td>\n",
       "      <td>0</td>\n",
       "      <td>0</td>\n",
       "      <td>0</td>\n",
       "      <td>0</td>\n",
       "      <td>0</td>\n",
       "      <td>2</td>\n",
       "    </tr>\n",
       "    <tr>\n",
       "      <th>49996</th>\n",
       "      <td>0</td>\n",
       "      <td>0</td>\n",
       "      <td>0</td>\n",
       "      <td>0</td>\n",
       "      <td>0</td>\n",
       "      <td>0</td>\n",
       "      <td>0</td>\n",
       "      <td>0</td>\n",
       "      <td>0</td>\n",
       "      <td>0</td>\n",
       "      <td>...</td>\n",
       "      <td>0</td>\n",
       "      <td>0</td>\n",
       "      <td>0</td>\n",
       "      <td>0</td>\n",
       "      <td>0</td>\n",
       "      <td>0</td>\n",
       "      <td>0</td>\n",
       "      <td>0</td>\n",
       "      <td>0</td>\n",
       "      <td>0</td>\n",
       "    </tr>\n",
       "    <tr>\n",
       "      <th>49997</th>\n",
       "      <td>0</td>\n",
       "      <td>0</td>\n",
       "      <td>0</td>\n",
       "      <td>0</td>\n",
       "      <td>0</td>\n",
       "      <td>0</td>\n",
       "      <td>0</td>\n",
       "      <td>0</td>\n",
       "      <td>0</td>\n",
       "      <td>0</td>\n",
       "      <td>...</td>\n",
       "      <td>0</td>\n",
       "      <td>0</td>\n",
       "      <td>0</td>\n",
       "      <td>0</td>\n",
       "      <td>0</td>\n",
       "      <td>0</td>\n",
       "      <td>0</td>\n",
       "      <td>0</td>\n",
       "      <td>0</td>\n",
       "      <td>1</td>\n",
       "    </tr>\n",
       "    <tr>\n",
       "      <th>49998</th>\n",
       "      <td>0</td>\n",
       "      <td>0</td>\n",
       "      <td>0</td>\n",
       "      <td>0</td>\n",
       "      <td>0</td>\n",
       "      <td>0</td>\n",
       "      <td>0</td>\n",
       "      <td>0</td>\n",
       "      <td>0</td>\n",
       "      <td>0</td>\n",
       "      <td>...</td>\n",
       "      <td>0</td>\n",
       "      <td>0</td>\n",
       "      <td>0</td>\n",
       "      <td>0</td>\n",
       "      <td>0</td>\n",
       "      <td>0</td>\n",
       "      <td>0</td>\n",
       "      <td>0</td>\n",
       "      <td>0</td>\n",
       "      <td>0</td>\n",
       "    </tr>\n",
       "    <tr>\n",
       "      <th>49999</th>\n",
       "      <td>0</td>\n",
       "      <td>0</td>\n",
       "      <td>0</td>\n",
       "      <td>0</td>\n",
       "      <td>0</td>\n",
       "      <td>0</td>\n",
       "      <td>0</td>\n",
       "      <td>0</td>\n",
       "      <td>0</td>\n",
       "      <td>0</td>\n",
       "      <td>...</td>\n",
       "      <td>0</td>\n",
       "      <td>0</td>\n",
       "      <td>0</td>\n",
       "      <td>0</td>\n",
       "      <td>0</td>\n",
       "      <td>0</td>\n",
       "      <td>0</td>\n",
       "      <td>0</td>\n",
       "      <td>0</td>\n",
       "      <td>0</td>\n",
       "    </tr>\n",
       "  </tbody>\n",
       "</table>\n",
       "<p>50000 rows × 1651 columns</p>\n",
       "</div>"
      ],
      "text/plain": [
       "       \\r\\n\\r\\ni  \\r\\n\\r\\nthe  0  1  1 day  1 month  10  10 day  100  10000  \\\n",
       "0              0            0  0  0      0        0   0       0    0      0   \n",
       "1              0            0  0  0      0        0   0       0    0      0   \n",
       "2              0            0  0  1      0        0   0       0    0      0   \n",
       "3              0            0  0  0      0        0   0       0    0      0   \n",
       "4              0            0  0  0      0        0   0       0    0      0   \n",
       "...          ...          ... .. ..    ...      ...  ..     ...  ...    ...   \n",
       "49995          0            0  0  0      0        0   0       0    0      0   \n",
       "49996          0            0  0  0      0        0   0       0    0      0   \n",
       "49997          0            0  0  0      0        0   0       0    0      0   \n",
       "49998          0            0  0  0      0        0   0       0    0      0   \n",
       "49999          0            0  0  0      0        0   0       0    0      0   \n",
       "\n",
       "       ...  your  youtub  yummi  zoom  …  🇺🇸  🇺🇸 gopdeb  🇺🇸 gopdeb gopdeb  👍  \\\n",
       "0      ...     0       0      0     0  0   0          0                 0  0   \n",
       "1      ...     0       0      0     0  0   0          0                 0  0   \n",
       "2      ...     0       0      0     0  0   0          0                 0  0   \n",
       "3      ...     0       0      0     0  0   0          0                 0  0   \n",
       "4      ...     0       0      0     0  0   0          0                 0  0   \n",
       "...    ...   ...     ...    ...   ... ..  ..        ...               ... ..   \n",
       "49995  ...     0       0      0     0  0   0          0                 0  0   \n",
       "49996  ...     0       0      0     0  0   0          0                 0  0   \n",
       "49997  ...     0       0      0     0  0   0          0                 0  0   \n",
       "49998  ...     0       0      0     0  0   0          0                 0  0   \n",
       "49999  ...     0       0      0     0  0   0          0                 0  0   \n",
       "\n",
       "       label  \n",
       "0          2  \n",
       "1          2  \n",
       "2          2  \n",
       "3          2  \n",
       "4          0  \n",
       "...      ...  \n",
       "49995      2  \n",
       "49996      0  \n",
       "49997      1  \n",
       "49998      0  \n",
       "49999      0  \n",
       "\n",
       "[50000 rows x 1651 columns]"
      ]
     },
     "metadata": {},
     "output_type": "display_data"
    }
   ],
   "source": [
    "VecDF = pd.DataFrame(columns = sentWordsVec.get_feature_names(), data = X_Vec.toarray())\n",
    "VecDF['label'] = y\n",
    "display(VecDF)"
   ]
  },
  {
   "cell_type": "code",
   "execution_count": 9,
   "metadata": {},
   "outputs": [
    {
     "name": "stdout",
     "output_type": "stream",
     "text": [
      "5000                   1.0\n",
      "5000 mah               1.0\n",
      "batteri                1.0\n",
      "big                    1.0\n",
      "camera                 1.0\n",
      "camera qualiti         1.0\n",
      "camera qualiti good    1.0\n",
      "good                   2.0\n",
      "good mobil             1.0\n",
      "mah                    1.0\n",
      "mobil                  1.0\n",
      "qualiti                1.0\n",
      "qualiti good           1.0\n",
      "label                  2.0\n",
      "Name: 0, dtype: float64\n",
      "\n",
      "Original Text: good mobile. battery is 5000 mah is very big. camera quality very good.\n",
      "Original Label: 2\n"
     ]
    }
   ],
   "source": [
    "check = VecDF.loc[0]\n",
    "check.where(check > 0, inplace = True)\n",
    "check.dropna(inplace = True)\n",
    "print(check)\n",
    "print()\n",
    "print(f\"Original Text: {sentTrain.iloc[0,1]}\")\n",
    "print(f\"Original Label: {sentTrain.iloc[0,2]}\")"
   ]
  },
  {
   "cell_type": "code",
   "execution_count": 10,
   "metadata": {},
   "outputs": [],
   "source": [
    "def plot_most_frequent(words, word_counts, top=20):\n",
    "    words_df = pd.DataFrame({\"token\": words, \n",
    "                             \"count\": word_counts})\n",
    "    \n",
    "    fig, ax = plt.subplots(figsize=(16,8))\n",
    "    words_df.sort_values(by=\"count\", ascending=False).head(top)\\\n",
    "        .set_index(\"token\")\\\n",
    "        .plot(kind=\"bar\", rot=45, ax=ax)\n",
    "    sns.despine()\n",
    "    plt.title(\"Most frequent tokens\")\n",
    "    plt.show()\n",
    "    \n",
    "    return words_df"
   ]
  },
  {
   "cell_type": "code",
   "execution_count": 11,
   "metadata": {},
   "outputs": [
    {
     "data": {
      "image/png": "[encoded data removed]",
      "text/plain": [
       "<Figure size 1152x576 with 1 Axes>"
      ]
     },
     "metadata": {
      "needs_background": "light"
     },
     "output_type": "display_data"
    }
   ],
   "source": [
    "wordCountsVec = X_Vec.toarray().sum(axis=0)\n",
    "wordsVec = sentWordsVec.get_feature_names()\n",
    "\n",
    "wordsVecDF = plot_most_frequent(wordsVec, wordCountsVec)"
   ]
  },
  {
   "cell_type": "code",
   "execution_count": 12,
   "metadata": {},
   "outputs": [
    {
     "data": {
      "text/html": [
       "<div>\n",
       "<style scoped>\n",
       "    .dataframe tbody tr th:only-of-type {\n",
       "        vertical-align: middle;\n",
       "    }\n",
       "\n",
       "    .dataframe tbody tr th {\n",
       "        vertical-align: top;\n",
       "    }\n",
       "\n",
       "    .dataframe thead th {\n",
       "        text-align: right;\n",
       "    }\n",
       "</style>\n",
       "<table border=\"1\" class=\"dataframe\">\n",
       "  <thead>\n",
       "    <tr style=\"text-align: right;\">\n",
       "      <th></th>\n",
       "      <th>\\r\\n\\r\\ni</th>\n",
       "      <th>\\r\\n\\r\\nthe</th>\n",
       "      <th>0</th>\n",
       "      <th>1</th>\n",
       "      <th>1 day</th>\n",
       "      <th>1 month</th>\n",
       "      <th>10</th>\n",
       "      <th>10 day</th>\n",
       "      <th>100</th>\n",
       "      <th>10000</th>\n",
       "      <th>...</th>\n",
       "      <th>year</th>\n",
       "      <th>yelp</th>\n",
       "      <th>yesterday</th>\n",
       "      <th>yet</th>\n",
       "      <th>youll</th>\n",
       "      <th>your</th>\n",
       "      <th>youtub</th>\n",
       "      <th>yummi</th>\n",
       "      <th>zoom</th>\n",
       "      <th>label</th>\n",
       "    </tr>\n",
       "  </thead>\n",
       "  <tbody>\n",
       "    <tr>\n",
       "      <th>0</th>\n",
       "      <td>0.0</td>\n",
       "      <td>0.0</td>\n",
       "      <td>0.0</td>\n",
       "      <td>0.000000</td>\n",
       "      <td>0.0</td>\n",
       "      <td>0.0</td>\n",
       "      <td>0.0</td>\n",
       "      <td>0.0</td>\n",
       "      <td>0.0</td>\n",
       "      <td>0.0</td>\n",
       "      <td>...</td>\n",
       "      <td>0.0</td>\n",
       "      <td>0.000000</td>\n",
       "      <td>0.0</td>\n",
       "      <td>0.0</td>\n",
       "      <td>0.0</td>\n",
       "      <td>0.0</td>\n",
       "      <td>0.0</td>\n",
       "      <td>0.0</td>\n",
       "      <td>0.0</td>\n",
       "      <td>2</td>\n",
       "    </tr>\n",
       "    <tr>\n",
       "      <th>1</th>\n",
       "      <td>0.0</td>\n",
       "      <td>0.0</td>\n",
       "      <td>0.0</td>\n",
       "      <td>0.000000</td>\n",
       "      <td>0.0</td>\n",
       "      <td>0.0</td>\n",
       "      <td>0.0</td>\n",
       "      <td>0.0</td>\n",
       "      <td>0.0</td>\n",
       "      <td>0.0</td>\n",
       "      <td>...</td>\n",
       "      <td>0.0</td>\n",
       "      <td>0.000000</td>\n",
       "      <td>0.0</td>\n",
       "      <td>0.0</td>\n",
       "      <td>0.0</td>\n",
       "      <td>0.0</td>\n",
       "      <td>0.0</td>\n",
       "      <td>0.0</td>\n",
       "      <td>0.0</td>\n",
       "      <td>2</td>\n",
       "    </tr>\n",
       "    <tr>\n",
       "      <th>2</th>\n",
       "      <td>0.0</td>\n",
       "      <td>0.0</td>\n",
       "      <td>0.0</td>\n",
       "      <td>0.252649</td>\n",
       "      <td>0.0</td>\n",
       "      <td>0.0</td>\n",
       "      <td>0.0</td>\n",
       "      <td>0.0</td>\n",
       "      <td>0.0</td>\n",
       "      <td>0.0</td>\n",
       "      <td>...</td>\n",
       "      <td>0.0</td>\n",
       "      <td>0.000000</td>\n",
       "      <td>0.0</td>\n",
       "      <td>0.0</td>\n",
       "      <td>0.0</td>\n",
       "      <td>0.0</td>\n",
       "      <td>0.0</td>\n",
       "      <td>0.0</td>\n",
       "      <td>0.0</td>\n",
       "      <td>2</td>\n",
       "    </tr>\n",
       "    <tr>\n",
       "      <th>3</th>\n",
       "      <td>0.0</td>\n",
       "      <td>0.0</td>\n",
       "      <td>0.0</td>\n",
       "      <td>0.000000</td>\n",
       "      <td>0.0</td>\n",
       "      <td>0.0</td>\n",
       "      <td>0.0</td>\n",
       "      <td>0.0</td>\n",
       "      <td>0.0</td>\n",
       "      <td>0.0</td>\n",
       "      <td>...</td>\n",
       "      <td>0.0</td>\n",
       "      <td>0.000000</td>\n",
       "      <td>0.0</td>\n",
       "      <td>0.0</td>\n",
       "      <td>0.0</td>\n",
       "      <td>0.0</td>\n",
       "      <td>0.0</td>\n",
       "      <td>0.0</td>\n",
       "      <td>0.0</td>\n",
       "      <td>2</td>\n",
       "    </tr>\n",
       "    <tr>\n",
       "      <th>4</th>\n",
       "      <td>0.0</td>\n",
       "      <td>0.0</td>\n",
       "      <td>0.0</td>\n",
       "      <td>0.000000</td>\n",
       "      <td>0.0</td>\n",
       "      <td>0.0</td>\n",
       "      <td>0.0</td>\n",
       "      <td>0.0</td>\n",
       "      <td>0.0</td>\n",
       "      <td>0.0</td>\n",
       "      <td>...</td>\n",
       "      <td>0.0</td>\n",
       "      <td>0.000000</td>\n",
       "      <td>0.0</td>\n",
       "      <td>0.0</td>\n",
       "      <td>0.0</td>\n",
       "      <td>0.0</td>\n",
       "      <td>0.0</td>\n",
       "      <td>0.0</td>\n",
       "      <td>0.0</td>\n",
       "      <td>0</td>\n",
       "    </tr>\n",
       "    <tr>\n",
       "      <th>...</th>\n",
       "      <td>...</td>\n",
       "      <td>...</td>\n",
       "      <td>...</td>\n",
       "      <td>...</td>\n",
       "      <td>...</td>\n",
       "      <td>...</td>\n",
       "      <td>...</td>\n",
       "      <td>...</td>\n",
       "      <td>...</td>\n",
       "      <td>...</td>\n",
       "      <td>...</td>\n",
       "      <td>...</td>\n",
       "      <td>...</td>\n",
       "      <td>...</td>\n",
       "      <td>...</td>\n",
       "      <td>...</td>\n",
       "      <td>...</td>\n",
       "      <td>...</td>\n",
       "      <td>...</td>\n",
       "      <td>...</td>\n",
       "      <td>...</td>\n",
       "    </tr>\n",
       "    <tr>\n",
       "      <th>49995</th>\n",
       "      <td>0.0</td>\n",
       "      <td>0.0</td>\n",
       "      <td>0.0</td>\n",
       "      <td>0.000000</td>\n",
       "      <td>0.0</td>\n",
       "      <td>0.0</td>\n",
       "      <td>0.0</td>\n",
       "      <td>0.0</td>\n",
       "      <td>0.0</td>\n",
       "      <td>0.0</td>\n",
       "      <td>...</td>\n",
       "      <td>0.0</td>\n",
       "      <td>0.000000</td>\n",
       "      <td>0.0</td>\n",
       "      <td>0.0</td>\n",
       "      <td>0.0</td>\n",
       "      <td>0.0</td>\n",
       "      <td>0.0</td>\n",
       "      <td>0.0</td>\n",
       "      <td>0.0</td>\n",
       "      <td>2</td>\n",
       "    </tr>\n",
       "    <tr>\n",
       "      <th>49996</th>\n",
       "      <td>0.0</td>\n",
       "      <td>0.0</td>\n",
       "      <td>0.0</td>\n",
       "      <td>0.000000</td>\n",
       "      <td>0.0</td>\n",
       "      <td>0.0</td>\n",
       "      <td>0.0</td>\n",
       "      <td>0.0</td>\n",
       "      <td>0.0</td>\n",
       "      <td>0.0</td>\n",
       "      <td>...</td>\n",
       "      <td>0.0</td>\n",
       "      <td>0.000000</td>\n",
       "      <td>0.0</td>\n",
       "      <td>0.0</td>\n",
       "      <td>0.0</td>\n",
       "      <td>0.0</td>\n",
       "      <td>0.0</td>\n",
       "      <td>0.0</td>\n",
       "      <td>0.0</td>\n",
       "      <td>0</td>\n",
       "    </tr>\n",
       "    <tr>\n",
       "      <th>49997</th>\n",
       "      <td>0.0</td>\n",
       "      <td>0.0</td>\n",
       "      <td>0.0</td>\n",
       "      <td>0.000000</td>\n",
       "      <td>0.0</td>\n",
       "      <td>0.0</td>\n",
       "      <td>0.0</td>\n",
       "      <td>0.0</td>\n",
       "      <td>0.0</td>\n",
       "      <td>0.0</td>\n",
       "      <td>...</td>\n",
       "      <td>0.0</td>\n",
       "      <td>0.000000</td>\n",
       "      <td>0.0</td>\n",
       "      <td>0.0</td>\n",
       "      <td>0.0</td>\n",
       "      <td>0.0</td>\n",
       "      <td>0.0</td>\n",
       "      <td>0.0</td>\n",
       "      <td>0.0</td>\n",
       "      <td>1</td>\n",
       "    </tr>\n",
       "    <tr>\n",
       "      <th>49998</th>\n",
       "      <td>0.0</td>\n",
       "      <td>0.0</td>\n",
       "      <td>0.0</td>\n",
       "      <td>0.000000</td>\n",
       "      <td>0.0</td>\n",
       "      <td>0.0</td>\n",
       "      <td>0.0</td>\n",
       "      <td>0.0</td>\n",
       "      <td>0.0</td>\n",
       "      <td>0.0</td>\n",
       "      <td>...</td>\n",
       "      <td>0.0</td>\n",
       "      <td>0.000000</td>\n",
       "      <td>0.0</td>\n",
       "      <td>0.0</td>\n",
       "      <td>0.0</td>\n",
       "      <td>0.0</td>\n",
       "      <td>0.0</td>\n",
       "      <td>0.0</td>\n",
       "      <td>0.0</td>\n",
       "      <td>0</td>\n",
       "    </tr>\n",
       "    <tr>\n",
       "      <th>49999</th>\n",
       "      <td>0.0</td>\n",
       "      <td>0.0</td>\n",
       "      <td>0.0</td>\n",
       "      <td>0.000000</td>\n",
       "      <td>0.0</td>\n",
       "      <td>0.0</td>\n",
       "      <td>0.0</td>\n",
       "      <td>0.0</td>\n",
       "      <td>0.0</td>\n",
       "      <td>0.0</td>\n",
       "      <td>...</td>\n",
       "      <td>0.0</td>\n",
       "      <td>0.297409</td>\n",
       "      <td>0.0</td>\n",
       "      <td>0.0</td>\n",
       "      <td>0.0</td>\n",
       "      <td>0.0</td>\n",
       "      <td>0.0</td>\n",
       "      <td>0.0</td>\n",
       "      <td>0.0</td>\n",
       "      <td>0</td>\n",
       "    </tr>\n",
       "  </tbody>\n",
       "</table>\n",
       "<p>50000 rows × 1648 columns</p>\n",
       "</div>"
      ],
      "text/plain": [
       "       \\r\\n\\r\\ni  \\r\\n\\r\\nthe    0         1  1 day  1 month   10  10 day  \\\n",
       "0            0.0          0.0  0.0  0.000000    0.0      0.0  0.0     0.0   \n",
       "1            0.0          0.0  0.0  0.000000    0.0      0.0  0.0     0.0   \n",
       "2            0.0          0.0  0.0  0.252649    0.0      0.0  0.0     0.0   \n",
       "3            0.0          0.0  0.0  0.000000    0.0      0.0  0.0     0.0   \n",
       "4            0.0          0.0  0.0  0.000000    0.0      0.0  0.0     0.0   \n",
       "...          ...          ...  ...       ...    ...      ...  ...     ...   \n",
       "49995        0.0          0.0  0.0  0.000000    0.0      0.0  0.0     0.0   \n",
       "49996        0.0          0.0  0.0  0.000000    0.0      0.0  0.0     0.0   \n",
       "49997        0.0          0.0  0.0  0.000000    0.0      0.0  0.0     0.0   \n",
       "49998        0.0          0.0  0.0  0.000000    0.0      0.0  0.0     0.0   \n",
       "49999        0.0          0.0  0.0  0.000000    0.0      0.0  0.0     0.0   \n",
       "\n",
       "       100  10000  ...  year      yelp  yesterday  yet  youll  your  youtub  \\\n",
       "0      0.0    0.0  ...   0.0  0.000000        0.0  0.0    0.0   0.0     0.0   \n",
       "1      0.0    0.0  ...   0.0  0.000000        0.0  0.0    0.0   0.0     0.0   \n",
       "2      0.0    0.0  ...   0.0  0.000000        0.0  0.0    0.0   0.0     0.0   \n",
       "3      0.0    0.0  ...   0.0  0.000000        0.0  0.0    0.0   0.0     0.0   \n",
       "4      0.0    0.0  ...   0.0  0.000000        0.0  0.0    0.0   0.0     0.0   \n",
       "...    ...    ...  ...   ...       ...        ...  ...    ...   ...     ...   \n",
       "49995  0.0    0.0  ...   0.0  0.000000        0.0  0.0    0.0   0.0     0.0   \n",
       "49996  0.0    0.0  ...   0.0  0.000000        0.0  0.0    0.0   0.0     0.0   \n",
       "49997  0.0    0.0  ...   0.0  0.000000        0.0  0.0    0.0   0.0     0.0   \n",
       "49998  0.0    0.0  ...   0.0  0.000000        0.0  0.0    0.0   0.0     0.0   \n",
       "49999  0.0    0.0  ...   0.0  0.297409        0.0  0.0    0.0   0.0     0.0   \n",
       "\n",
       "       yummi  zoom  label  \n",
       "0        0.0   0.0      2  \n",
       "1        0.0   0.0      2  \n",
       "2        0.0   0.0      2  \n",
       "3        0.0   0.0      2  \n",
       "4        0.0   0.0      0  \n",
       "...      ...   ...    ...  \n",
       "49995    0.0   0.0      2  \n",
       "49996    0.0   0.0      0  \n",
       "49997    0.0   0.0      1  \n",
       "49998    0.0   0.0      0  \n",
       "49999    0.0   0.0      0  \n",
       "\n",
       "[50000 rows x 1648 columns]"
      ]
     },
     "metadata": {},
     "output_type": "display_data"
    }
   ],
   "source": [
    "IdfDF = pd.DataFrame(columns = sentWordsIdf.get_feature_names(), data = X_Idf.toarray())\n",
    "IdfDF['label'] = y\n",
    "display(IdfDF)"
   ]
  },
  {
   "cell_type": "code",
   "execution_count": 13,
   "metadata": {},
   "outputs": [
    {
     "name": "stdout",
     "output_type": "stream",
     "text": [
      "5000                   0.359667\n",
      "5000 mah               0.378035\n",
      "batteri                0.160454\n",
      "big                    0.300573\n",
      "camera                 0.153798\n",
      "camera qualiti         0.224137\n",
      "camera qualiti good    0.318046\n",
      "good                   0.260738\n",
      "good mobil             0.333613\n",
      "mah                    0.327722\n",
      "mobil                  0.195968\n",
      "qualiti                0.175102\n",
      "qualiti good           0.284338\n",
      "label                  2.000000\n",
      "Name: 0, dtype: float64\n",
      "\n",
      "Original Text: good mobile. battery is 5000 mah is very big. camera quality very good.\n",
      "Original Label: 2\n"
     ]
    }
   ],
   "source": [
    "check = IdfDF.loc[0]\n",
    "check.where(check > 0, inplace = True)\n",
    "check.dropna(inplace = True)\n",
    "print(check)\n",
    "print()\n",
    "print(f\"Original Text: {sentTrain.iloc[0,1]}\")\n",
    "print(f\"Original Label: {sentTrain.iloc[0,2]}\")"
   ]
  },
  {
   "cell_type": "code",
   "execution_count": 14,
   "metadata": {},
   "outputs": [
    {
     "data": {
      "image/png": "[encoded data removed]",
      "text/plain": [
       "<Figure size 1152x576 with 1 Axes>"
      ]
     },
     "metadata": {
      "needs_background": "light"
     },
     "output_type": "display_data"
    }
   ],
   "source": [
    "wordCountsIdf = X_Idf.toarray().sum(axis=0)\n",
    "wordsIdf = sentWordsIdf.get_feature_names()\n",
    "\n",
    "wrodsDF = plot_most_frequent(wordsIdf, wordCountsIdf)"
   ]
  },
  {
   "cell_type": "code",
   "execution_count": 15,
   "metadata": {},
   "outputs": [
    {
     "name": "stdout",
     "output_type": "stream",
     "text": [
      "Shapes: ((50000, 1650), (50000,))\n"
     ]
    }
   ],
   "source": [
    "XVec = VecDF.iloc[:, :-1]\n",
    "yVec = VecDF.iloc[:,-1]\n",
    "print(f\"Shapes: {XVec.shape, yVec.shape}\")"
   ]
  },
  {
   "cell_type": "code",
   "execution_count": 16,
   "metadata": {},
   "outputs": [
    {
     "name": "stdout",
     "output_type": "stream",
     "text": [
      "Train Shapes: ((33500, 1650), (33500,))\n",
      "Val Shapes: ((16500, 1650), (16500,))\n"
     ]
    }
   ],
   "source": [
    "X_trainVec, X_valVec, y_trainVec, y_valVec = train_test_split(XVec, yVec, test_size=0.33, random_state=12)\n",
    "print(f\"Train Shapes: {X_trainVec.shape, y_trainVec.shape}\")\n",
    "print(f\"Val Shapes: {X_valVec.shape, y_valVec.shape}\")"
   ]
  },
  {
   "cell_type": "code",
   "execution_count": 17,
   "metadata": {},
   "outputs": [
    {
     "name": "stdout",
     "output_type": "stream",
     "text": [
      "Pre-run model will be loaded\n"
     ]
    }
   ],
   "source": [
    "valScores = []\n",
    "trainScores = []\n",
    "cVals = []\n",
    "C_range = np.array([.00000001,.0000001,.000001,.00001,.0001,.001,0.1,1,10,100,1000,10000,100000,1000000,10000000,100000000,1000000000])\n",
    "\n",
    "# Check to see if a pre-run model exists - done to save time when re-running and testing the project\n",
    "if (os.path.exists('preRunModels/valScores.joblib') & os.path.exists('preRunModels/trainScores.joblib') & os.path.exists('preRunModels/cVals.joblib')):\n",
    "    valScores = joblib.load('preRunModels/valScores.joblib')\n",
    "    trainScores = joblib.load('preRunModels/trainScores.joblib')\n",
    "    cVals = joblib.load('preRunModels/cVals.joblib')\n",
    "    print(\"Pre-run model will be loaded\")\n",
    "# If no pre-run models exist...\n",
    "else:\n",
    "    for c in C_range:\n",
    "        my_logreg = LogisticRegression(solver='lbfgs', C = c, random_state = 12)\n",
    "        my_logreg.fit(X_trainVec, y_trainVec)\n",
    "\n",
    "        trainScores.append(my_logreg.score(X_trainVec, y_trainVec))\n",
    "        valScores.append(my_logreg.score(X_valVec, y_valVec))\n",
    "        cVals.append(c)\n",
    "    \n",
    "        # Print progress through the loop\n",
    "        print(f\"C={c}\", end=\"\\r\")\n",
    "        \n",
    "    # Save the model result lists for loading in the futrure\n",
    "    joblib.dump(valScores, 'preRunModels/valScores.joblib')\n",
    "    joblib.dump(trainScores, 'preRunModels/trainScores.joblib')\n",
    "    joblib.dump(cVals, 'preRunModels/cVals.joblib')\n",
    "        \n",
    "bestCValVec = cVals[np.argmax(valScores)]"
   ]
  },
  {
   "cell_type": "code",
   "execution_count": 18,
   "metadata": {},
   "outputs": [
    {
     "data": {
      "image/png": "[encoded data removed]",
      "text/plain": [
       "<Figure size 1152x576 with 1 Axes>"
      ]
     },
     "metadata": {
      "needs_background": "light"
     },
     "output_type": "display_data"
    },
    {
     "name": "stdout",
     "output_type": "stream",
     "text": [
      "The c-calue with the highest valuation score is 0.1\n"
     ]
    }
   ],
   "source": [
    "plt.figure(figsize = (16,8))\n",
    "plt.plot(C_range, trainScores,label=\"Train Score\")\n",
    "plt.plot(C_range, valScores,label=\"Validation Scores\")\n",
    "plt.xscale('log')\n",
    "plt.xlabel('C')\n",
    "plt.ylabel('Accuracy')\n",
    "plt.legend()\n",
    "plt.show()\n",
    "print(f\"The c-calue with the highest valuation score is {bestCValVec}\")"
   ]
  },
  {
   "cell_type": "code",
   "execution_count": 19,
   "metadata": {},
   "outputs": [],
   "source": [
    "# Empty list for model run times\n",
    "timedResultList = []"
   ]
  },
  {
   "cell_type": "code",
   "execution_count": 20,
   "metadata": {},
   "outputs": [
    {
     "name": "stdout",
     "output_type": "stream",
     "text": [
      "Logestical Regression Train: 0.7398805970149254\n",
      "Logestical Regression Valuation: 0.7024848484848485\n",
      "Wall time: 12.9 s\n"
     ]
    }
   ],
   "source": [
    "%%time\n",
    "logitVec = LogisticRegression(solver='lbfgs', C = bestCValVec, random_state = 12)\n",
    "\n",
    "logitVec.fit(X_trainVec, y_trainVec)\n",
    "\n",
    "print(f\"Logestical Regression Train: {logitVec.score(X_trainVec, y_trainVec)}\")\n",
    "print(f\"Logestical Regression Valuation: {logitVec.score(X_valVec, y_valVec)}\")"
   ]
  },
  {
   "cell_type": "code",
   "execution_count": 21,
   "metadata": {},
   "outputs": [
    {
     "name": "stdout",
     "output_type": "stream",
     "text": [
      "Shapes: ((50000, 1647), (50000,))\n"
     ]
    }
   ],
   "source": [
    "XIdf = IdfDF.iloc[:, :-1]\n",
    "yIdf = IdfDF.iloc[:,-1]\n",
    "print(f\"Shapes: {XIdf.shape, yIdf.shape}\")"
   ]
  },
  {
   "cell_type": "code",
   "execution_count": 22,
   "metadata": {},
   "outputs": [
    {
     "name": "stdout",
     "output_type": "stream",
     "text": [
      "Train Shapes: ((33500, 1647), (33500,))\n",
      "Val Shapes: ((16500, 1647), (16500,))\n"
     ]
    }
   ],
   "source": [
    "X_trainIdf, X_valIdf, y_trainIdf, y_valIdf = train_test_split(XIdf, yIdf, test_size=0.33, random_state=12)\n",
    "print(f\"Train Shapes: {X_trainIdf.shape, y_trainIdf.shape}\")\n",
    "print(f\"Val Shapes: {X_valIdf.shape, y_valIdf.shape}\")"
   ]
  },
  {
   "cell_type": "code",
   "execution_count": 23,
   "metadata": {},
   "outputs": [
    {
     "name": "stdout",
     "output_type": "stream",
     "text": [
      "Pre-run model will be loaded\n"
     ]
    }
   ],
   "source": [
    "valScores2 = []\n",
    "trainScores2 = []\n",
    "cVals2 = []\n",
    "C_range = np.array([.00000001,.0000001,.000001,.00001,.0001,.001,0.1,1,10,100,1000,10000,100000,1000000,10000000,100000000,1000000000])\n",
    "\n",
    "# Check to see if a pre-run model exists - done to save time when re-running and testing the project\n",
    "if (os.path.exists('preRunModels/valScores2.joblib') & os.path.exists('preRunModels/trainScores2.joblib') & os.path.exists('preRunModels/cVals2.joblib')):\n",
    "    valScores2 = joblib.load('preRunModels/valScores2.joblib')\n",
    "    trainScores2 = joblib.load('preRunModels/trainScores2.joblib')\n",
    "    cVals2 = joblib.load('preRunModels/cVals2.joblib')\n",
    "    print(\"Pre-run model will be loaded\")\n",
    "# If no pre-run models exist...\n",
    "else:\n",
    "    for c in C_range:\n",
    "        my_logreg = LogisticRegression(solver='lbfgs', C = c, random_state = 12)\n",
    "        my_logreg.fit(X_trainIdf, y_trainIdf)\n",
    "\n",
    "        trainScores2.append(my_logreg.score(X_trainIdf, y_trainIdf))\n",
    "        valScores2.append(my_logreg.score(X_valIdf, y_valIdf))\n",
    "        cVals2.append(c)\n",
    "    \n",
    "        # Print progress through the loop\n",
    "        print(f\"C={c}\", end=\"\\r\")\n",
    "        \n",
    "    # Save the model result lists for loading in the futrure\n",
    "    joblib.dump(valScores2, 'preRunModels/valScores2.joblib')\n",
    "    joblib.dump(trainScores2, 'preRunModels/trainScores2.joblib')\n",
    "    joblib.dump(cVals2, 'preRunModels/cVals2.joblib')\n",
    "        \n",
    "bestCValIdf = cVals2[np.argmax(valScores2)]"
   ]
  },
  {
   "cell_type": "code",
   "execution_count": 24,
   "metadata": {},
   "outputs": [
    {
     "data": {
      "image/png": "[encoded data removed]",
      "text/plain": [
       "<Figure size 1152x576 with 1 Axes>"
      ]
     },
     "metadata": {
      "needs_background": "light"
     },
     "output_type": "display_data"
    },
    {
     "name": "stdout",
     "output_type": "stream",
     "text": [
      "The c-calue with the highest valuation score is 1.0\n"
     ]
    }
   ],
   "source": [
    "plt.figure(figsize = (16,8))\n",
    "plt.plot(C_range, trainScores2, label=\"Train Score\")\n",
    "plt.plot(C_range, valScores2, label=\"Validation Scores\")\n",
    "plt.xscale('log')\n",
    "plt.xlabel('C')\n",
    "plt.ylabel('Accuracy')\n",
    "plt.legend()\n",
    "plt.show()\n",
    "print(f\"The c-calue with the highest valuation score is {bestCValIdf}\")"
   ]
  },
  {
   "cell_type": "code",
   "execution_count": 25,
   "metadata": {},
   "outputs": [
    {
     "name": "stdout",
     "output_type": "stream",
     "text": [
      "Logestical Regression Train: 0.7524179104477612\n",
      "Logestical Regression Valuation: 0.7163030303030303\n",
      "Wall time: 12.7 s\n"
     ]
    }
   ],
   "source": [
    "%%time\n",
    "logitIdf = LogisticRegression(solver='lbfgs', C = bestCValIdf, random_state = 12)\n",
    "\n",
    "logitIdf.fit(X_trainIdf, y_trainIdf)\n",
    "\n",
    "print(f\"Logestical Regression Train: {logitIdf.score(X_trainIdf, y_trainIdf)}\")\n",
    "print(f\"Logestical Regression Valuation: {logitIdf.score(X_valIdf, y_valIdf)}\")"
   ]
  },
  {
   "cell_type": "code",
   "execution_count": 26,
   "metadata": {},
   "outputs": [
    {
     "data": {
      "text/plain": [
       "(array([750, 751, 752, 753, 754, 755, 756, 757, 758, 759, 760, 761, 762,\n",
       "        763, 764, 765, 766, 767, 768, 769, 770, 771, 772, 773, 774, 775,\n",
       "        776, 777, 778, 779, 780, 781, 782, 783, 784, 785, 786, 787, 788,\n",
       "        789, 790, 791, 792, 793, 794, 795, 796, 797], dtype=int64),)"
      ]
     },
     "execution_count": 26,
     "metadata": {},
     "output_type": "execute_result"
    }
   ],
   "source": [
    "vecPcaCheck = PCA(n_components = X_trainVec.shape[1])\n",
    "vecPcaCheck.fit(X_trainVec)\n",
    "\n",
    "explVar = vecPcaCheck.explained_variance_ratio_.cumsum()\n",
    "np.where((explVar >= 0.9) & (explVar <= 0.91))"
   ]
  },
  {
   "cell_type": "code",
   "execution_count": 27,
   "metadata": {},
   "outputs": [],
   "source": [
    "vecPCA = PCA(n_components=750)\n",
    "\n",
    "vecPCA.fit(X_trainVec)\n",
    "\n",
    "XVecTrainPCA = vecPCA.transform(X_trainVec)\n",
    "XVecValPCA = vecPCA.transform(X_valVec)"
   ]
  },
  {
   "cell_type": "code",
   "execution_count": 28,
   "metadata": {},
   "outputs": [
    {
     "name": "stdout",
     "output_type": "stream",
     "text": [
      "Logestical Regression Train: 0.7226268656716418\n",
      "Logestical Regression Valuation: 0.697939393939394\n"
     ]
    }
   ],
   "source": [
    "logitVec.fit(XVecTrainPCA, y_trainVec)\n",
    "\n",
    "print(f\"Logestical Regression Train: {logitVec.score(XVecTrainPCA, y_trainVec)}\")\n",
    "print(f\"Logestical Regression Valuation: {logitVec.score(XVecValPCA, y_valVec)}\")"
   ]
  },
  {
   "cell_type": "code",
   "execution_count": 32,
   "metadata": {},
   "outputs": [
    {
     "data": {
      "text/plain": [
       "(array([ 981,  982,  983,  984,  985,  986,  987,  988,  989,  990,  991,\n",
       "         992,  993,  994,  995,  996,  997,  998,  999, 1000, 1001, 1002,\n",
       "        1003, 1004, 1005, 1006, 1007, 1008, 1009, 1010, 1011, 1012, 1013,\n",
       "        1014, 1015, 1016, 1017, 1018, 1019, 1020, 1021, 1022], dtype=int64),)"
      ]
     },
     "execution_count": 32,
     "metadata": {},
     "output_type": "execute_result"
    }
   ],
   "source": [
    "idfPcaCheck = PCA(n_components = X_trainIdf.shape[1])\n",
    "idfPcaCheck.fit(X_trainIdf)\n",
    "\n",
    "explVar = idfPcaCheck.explained_variance_ratio_.cumsum()\n",
    "np.where((explVar >= 0.9) & (explVar <= 0.91))"
   ]
  },
  {
   "cell_type": "code",
   "execution_count": 30,
   "metadata": {},
   "outputs": [],
   "source": [
    "idfPCA = PCA(n_components=981)\n",
    "\n",
    "idfPCA.fit(X_trainIdf)\n",
    "\n",
    "XIdfTrainPCA = idfPCA.transform(X_trainIdf)\n",
    "XIdfValPCA = idfPCA.transform(X_valIdf)"
   ]
  },
  {
   "cell_type": "code",
   "execution_count": 31,
   "metadata": {},
   "outputs": [
    {
     "name": "stdout",
     "output_type": "stream",
     "text": [
      "Logestical Regression Train: 0.7421194029850746\n",
      "Logestical Regression Valuation: 0.7140606060606061\n"
     ]
    }
   ],
   "source": [
    "logitIdf.fit(XIdfTrainPCA, y_trainIdf)\n",
    "\n",
    "print(f\"Logestical Regression Train: {logitIdf.score(XIdfTrainPCA, y_trainIdf)}\")\n",
    "print(f\"Logestical Regression Valuation: {logitIdf.score(XIdfValPCA, y_valIdf)}\")"
   ]
  },
  {
   "cell_type": "markdown",
   "metadata": {},
   "source": [
    "## Model Builder Function"
   ]
  },
  {
   "cell_type": "code",
   "execution_count": 33,
   "metadata": {},
   "outputs": [],
   "source": [
    "def getModelScores(resultList, model, trainSetX, trainSetY, valSet, modelName):\n",
    "    # Start Timer\n",
    "    start = time.time()\n",
    "    # Empty list for test specific results\n",
    "    timeResultsData = []\n",
    "\n",
    "    # Model compilationa nd fitti\n",
    "    tempModel = model\n",
    "    tempModel.fit(trainSetX, trainSetY)\n",
    "    \n",
    "    # Model predictions\n",
    "    y1_train_pred = tempModel.predict(trainSet)\n",
    "    y1_val_pred = tempModel.predict(valSet)\n",
    "\n",
    "    # Prediction Scoring\n",
    "    trainScore2 = accuracy_score(trainSet, y1_train_pred)\n",
    "    valScore2 = accuracy_score(valSet, y1_val_pred)\n",
    "    precScore2 = precision_score(valSet, y1_val_pred)\n",
    "    recScore2 = recall_score(valSet, y1_val_pred)\n",
    "\n",
    "    # End Timer\n",
    "    end = time.time()\n",
    "    # Append results to temp list\n",
    "    timeResultsData.append(modelName)\n",
    "    timeResultsData.append(trainScore)\n",
    "    timeResultsData.append(valScore)\n",
    "    timeResultsData.append(precScore)\n",
    "    timeResultsData.append(recScore)\n",
    "    totalTime2 = round(end - start,2)\n",
    "    timeResultsData.append(totalTime)\n",
    "    resultList.append(timeResultsData)\n",
    "\n",
    "    # Printing model results\n",
    "    print(f\"Time: {totalTime} seconds\")\n",
    "    print(f\"Accuracy score of the train set: {trainScore}\")\n",
    "    print(f\"Accuracy score of the validation set: {valScore}\")\n",
    "    print(f\"Precision score of the validation set: {precScore}\")\n",
    "    print(f\"Recall score of the validation set: {recScore}\")"
   ]
  },
  {
   "cell_type": "markdown",
   "metadata": {},
   "source": [
    "## Vec C-Value"
   ]
  },
  {
   "cell_type": "code",
   "execution_count": 34,
   "metadata": {},
   "outputs": [
    {
     "name": "stdout",
     "output_type": "stream",
     "text": [
      "C=100.0\r"
     ]
    }
   ],
   "source": [
    "valScores3 = []\n",
    "trainScores3 = []\n",
    "cVals3 = []\n",
    "C_range = np.array([0.1,1,10,100])\n",
    "\n",
    "# Check to see if a pre-run model exists - done to save time when re-running and testing the project\n",
    "if (os.path.exists('preRunModels/valScores3.joblib') & os.path.exists('preRunModels/trainScores3.joblib') & os.path.exists('preRunModels/cVals3.joblib')):\n",
    "    valScores3 = joblib.load('preRunModels/valScores3.joblib')\n",
    "    trainScores3 = joblib.load('preRunModels/trainScores3.joblib')\n",
    "    cVals3 = joblib.load('preRunModels/cVals3.joblib')\n",
    "    print(\"Pre-run model will be loaded\")\n",
    "# If no pre-run models exist...\n",
    "else:\n",
    "    for c in C_range:\n",
    "        # Print progress through the loop\n",
    "        print(f\"C={c}\", end=\"\\r\")\n",
    "        \n",
    "        svcVec = SVC(C = c, random_state = 12)\n",
    "        svcVec.fit(X_trainVec, y_trainVec)\n",
    "\n",
    "        trainScores3.append(svcVec.score(X_trainVec, y_trainVec))\n",
    "        valScores3.append(svcVec.score(X_valVec, y_valVec))\n",
    "        cVals3.append(c)\n",
    "        \n",
    "    # Save the model result lists for loading in the futrure\n",
    "    joblib.dump(valScores3, 'preRunModels/valScores3.joblib')\n",
    "    joblib.dump(trainScores3, 'preRunModels/trainScores3.joblib')\n",
    "    joblib.dump(cVals3, 'preRunModels/cVals3.joblib')\n",
    "        \n",
    "bestCValVecSvc = cVals3[np.argmax(valScores3)]"
   ]
  },
  {
   "cell_type": "code",
   "execution_count": 35,
   "metadata": {},
   "outputs": [
    {
     "data": {
      "image/png": "[encoded data removed]",
      "text/plain": [
       "<Figure size 1152x576 with 1 Axes>"
      ]
     },
     "metadata": {
      "needs_background": "light"
     },
     "output_type": "display_data"
    },
    {
     "name": "stdout",
     "output_type": "stream",
     "text": [
      "The c-value with the highest valuation score is 1.0\n"
     ]
    }
   ],
   "source": [
    "plt.figure(figsize = (16,8))\n",
    "plt.plot(C_range, trainScores3, label=\"Train Score\")\n",
    "plt.plot(C_range, valScores3, label=\"Validation Scores\")\n",
    "plt.xscale('log')\n",
    "plt.xlabel('C')\n",
    "plt.ylabel('Accuracy')\n",
    "plt.legend()\n",
    "plt.show()\n",
    "print(f\"The c-value with the highest valuation score is {bestCValVecSvc}\")"
   ]
  },
  {
   "cell_type": "markdown",
   "metadata": {},
   "source": [
    "## IDF C-Value"
   ]
  },
  {
   "cell_type": "code",
   "execution_count": 37,
   "metadata": {},
   "outputs": [
    {
     "name": "stdout",
     "output_type": "stream",
     "text": [
      "C=100.0\r"
     ]
    }
   ],
   "source": [
    "valScores31 = []\n",
    "trainScores31 = []\n",
    "cVals31 = []\n",
    "C_range = np.array([0.1,1,10,100])\n",
    "\n",
    "# Check to see if a pre-run model exists - done to save time when re-running and testing the project\n",
    "if (os.path.exists('preRunModels/valScores3.joblib') & \n",
    "    os.path.exists('preRunModels/trainScores31.joblib') & \n",
    "    os.path.exists('preRunModels/cVals3.joblib')):\n",
    "    valScores31 = joblib.load('preRunModels/valScores31.joblib')\n",
    "    trainScores31 = joblib.load('preRunModels/trainScores31.joblib')\n",
    "    cVals31 = joblib.load('preRunModels/cVals31.joblib')\n",
    "    print(\"Pre-run model will be loaded\")\n",
    "# If no pre-run models exist...\n",
    "else:\n",
    "    for c in C_range:\n",
    "        # Print progress through the loop\n",
    "        print(f\"C={c}\", end=\"\\r\")\n",
    "        \n",
    "        svcIdf = SVC(C = c, random_state = 12)\n",
    "        svcIdf.fit(X_trainIdf, y_trainIdf)\n",
    "\n",
    "        trainScores31.append(svcIdf.score(X_trainIdf, y_trainIdf))\n",
    "        valScores31.append(svcIdf.score(X_valIdf, y_valIdf))\n",
    "        cVals31.append(c)\n",
    "        \n",
    "    # Save the model result lists for loading in the futrure\n",
    "    joblib.dump(valScores31, 'preRunModels/valScores31.joblib')\n",
    "    joblib.dump(trainScores31, 'preRunModels/trainScores31.joblib')\n",
    "    joblib.dump(cVals31, 'preRunModels/cVals31.joblib')\n",
    "        \n",
    "bestCValIdfSvc = cVals31[np.argmax(valScores31)]"
   ]
  },
  {
   "cell_type": "code",
   "execution_count": 38,
   "metadata": {},
   "outputs": [
    {
     "data": {
      "image/png": "[encoded data removed]",
      "text/plain": [
       "<Figure size 1152x576 with 1 Axes>"
      ]
     },
     "metadata": {
      "needs_background": "light"
     },
     "output_type": "display_data"
    },
    {
     "name": "stdout",
     "output_type": "stream",
     "text": [
      "The c-value with the highest valuation score is 1.0\n"
     ]
    }
   ],
   "source": [
    "plt.figure(figsize = (16,8))\n",
    "plt.plot(C_range, trainScores31, label=\"Train Score\")\n",
    "plt.plot(C_range, valScores31, label=\"Validation Scores\")\n",
    "plt.xscale('log')\n",
    "plt.xlabel('C')\n",
    "plt.ylabel('Accuracy')\n",
    "plt.legend()\n",
    "plt.show()\n",
    "print(f\"The c-value with the highest valuation score is {bestCValIdfSvc}\")"
   ]
  },
  {
   "cell_type": "markdown",
   "metadata": {},
   "source": [
    "## SVC Models"
   ]
  },
  {
   "cell_type": "code",
   "execution_count": null,
   "metadata": {},
   "outputs": [],
   "source": [
    "svcVecNlp = SVC(C = bestCValVecSvc, random_state = 12, probability = True)\n",
    "getModelScores(timedResultList, svcVecNlp, X_trainVec, y_trainVec, X_valVec, 'SVC Vec')\n",
    "\n",
    "svcIdfNlp = SVC(C = bestCValIdfSvc, random_state = 12, probability = True)\n",
    "getModelScores(timedResultList, svcIdfNlp, X_trainIdf, y_trainIdf, X_valIdf, 'SVC Idf')"
   ]
  },
  {
   "cell_type": "markdown",
   "metadata": {},
   "source": [
    "## Vec K-Values broad"
   ]
  },
  {
   "cell_type": "code",
   "execution_count": null,
   "metadata": {},
   "outputs": [],
   "source": [
    "# Empty lists to store iteration results\n",
    "valScores4 = []\n",
    "trainScores4 = []\n",
    "K_values4 = []\n",
    "\n",
    "# Check to see if a pre-run model exists - done to save time when re-running and testing the project\n",
    "if (os.path.exists('preRunModels/trainScores4.joblib') & \n",
    "    os.path.exists('preRunModels/valScores4.joblib') & \n",
    "    os.path.exists('preRunModels/kValues4.joblib')):\n",
    "    trainScores4 = joblib.load('preRunModels/trainScores4.joblib')\n",
    "    valScores4 = joblib.load('preRunModels/valScores4.joblib')\n",
    "    K_values4 = joblib.load('preRunModels/kValues4.joblib')\n",
    "    print(\"Pre-run model will be loaded\")\n",
    "# If no pre-run models exist...\n",
    "else:\n",
    "    # for a range the size of the total data points we have in steps of 100\n",
    "    for k in range(1, X_trainVec.shape[0],100):\n",
    "\n",
    "        # Train and fit model with testing number of neighbors\n",
    "        knnVec = KNeighborsClassifier(n_neighbors=k).fit(X_trainVec, y_trainVec)\n",
    "\n",
    "        # Predict model\n",
    "        y_train_pred = knnVec.predict(X_trainVec)\n",
    "        y_test_pred = knnVec.predict(X_valVec)\n",
    "\n",
    "        # Save model predictions and the relative number of neighbors to lists\n",
    "        trainScores4.append(accuracy_score(X_trainVec, y_train_pred))\n",
    "        valScores4.append(accuracy_score(X_valVec, y_test_pred))\n",
    "        K_values4.append(k)\n",
    "\n",
    "        # Print progress through the loop\n",
    "        print(f\"K={k}/{X_trainVec.shape[0]}\", end=\"\\r\")\n",
    "    \n",
    "    # Save the model result lists for loading in the futrure\n",
    "    joblib.dump(trainScores4, 'preRunModels/trainScores4.joblib')\n",
    "    joblib.dump(valScores4, 'preRunModels/valScores4.joblib')\n",
    "    joblib.dump(K_values4, 'preRunModels/kValues4.joblib')\n",
    "    \n",
    "bestKValVecKnn = K_values4[np.argmax(valScores4)]"
   ]
  },
  {
   "cell_type": "code",
   "execution_count": null,
   "metadata": {},
   "outputs": [],
   "source": [
    "plt.figure(figsize = (16,8))\n",
    "plt.plot(K_values4, trainScores4, label=\"Train Score\")\n",
    "plt.plot(K_values4, valScores4, label=\"Validation Scores\")\n",
    "plt.xlabel('K-Value')\n",
    "plt.ylabel('Accuracy')\n",
    "plt.legend()\n",
    "plt.show()\n",
    "print(f\"The K-Value with the highest valuation score is {bestKValVecKnn}\")"
   ]
  },
  {
   "cell_type": "markdown",
   "metadata": {},
   "source": [
    "## Vec K-Values narrow"
   ]
  },
  {
   "cell_type": "code",
   "execution_count": null,
   "metadata": {},
   "outputs": [],
   "source": [
    "# Empty lists to store iteration results\n",
    "valScores5 = []\n",
    "trainScores5 = []\n",
    "K_values5 = []\n",
    "\n",
    "# Check to see if a pre-run model exists - done to save time when re-running and testing the project\n",
    "if (os.path.exists('preRunModels/trainScores5.joblib') & \n",
    "    os.path.exists('preRunModels/valScores5.joblib') & \n",
    "    os.path.exists('preRunModels/kValues5.joblib')):\n",
    "    trainScores5 = joblib.load('preRunModels/trainScores5.joblib')\n",
    "    valScores5 = joblib.load('preRunModels/valScores5.joblib')\n",
    "    K_values5 = joblib.load('preRunModels/K_values5.joblib')\n",
    "    print(\"Pre-run model will be loaded\")\n",
    "# If no pre-run models exist...\n",
    "else:\n",
    "    # for a range the size of the total data points we have in steps of 100\n",
    "    for k in range(1,?????):\n",
    "\n",
    "        # Train and fit model with testing number of neighbors\n",
    "        knnVec = KNeighborsClassifier(n_neighbors=k).fit(X_trainVec, y_trainVec)\n",
    "\n",
    "        # Predict model\n",
    "        y_train_pred = knnVec.predict(X_trainVec)\n",
    "        y_test_pred = knnVec.predict(X_valVec)\n",
    "\n",
    "        # Save model predictions and the relative number of neighbors to lists\n",
    "        trainScores5.append(accuracy_score(X_trainVec, y_train_pred))\n",
    "        valScores5.append(accuracy_score(X_valVec, y_test_pred))\n",
    "        K_values5.append(k)\n",
    "\n",
    "        # Print progress through the loop\n",
    "        print(f\"K={k}/?????\", end=\"\\r\")\n",
    "    \n",
    "    # Save the model result lists for loading in the futrure\n",
    "    joblib.dump(trainScores5, 'preRunModels/trainScores5.joblib')\n",
    "    joblib.dump(valScores5, 'preRunModels/valScores5.joblib')\n",
    "    joblib.dump(K_values5, 'preRunModels/K_values5.joblib')\n",
    "    \n",
    "bestKValVecKnn = K_values5[np.argmax(valScores5)]"
   ]
  },
  {
   "cell_type": "code",
   "execution_count": null,
   "metadata": {},
   "outputs": [],
   "source": [
    "plt.figure(figsize = (16,8))\n",
    "plt.plot(K_values5, trainScores5, label=\"Train Score\")\n",
    "plt.plot(K_values5, valScores5, label=\"Validation Scores\")\n",
    "plt.xlabel('K-Value')\n",
    "plt.ylabel('Accuracy')\n",
    "plt.legend()\n",
    "plt.show()\n",
    "print(f\"The K-Value with the highest valuation score is {bestKValVecKnn}\")"
   ]
  },
  {
   "cell_type": "markdown",
   "metadata": {},
   "source": [
    "## IDF K-Values broad"
   ]
  },
  {
   "cell_type": "code",
   "execution_count": null,
   "metadata": {},
   "outputs": [],
   "source": [
    "# Empty lists to store iteration results\n",
    "trainScores41 = []\n",
    "valScores41 = []\n",
    "K_values41 = []\n",
    "\n",
    "# Check to see if a pre-run model exists - done to save time when re-running and testing the project\n",
    "if (os.path.exists('preRunModels/trainScores41.joblib') & \n",
    "    os.path.exists('preRunModels/valScores41.joblib') & \n",
    "    os.path.exists('preRunModels/kValues41.joblib')):\n",
    "    trainScores41 = joblib.load('preRunModels/trainScores41.joblib')\n",
    "    valScores41 = joblib.load('preRunModels/valScores41.joblib')\n",
    "    K_values41 = joblib.load('preRunModels/kValues41.joblib')\n",
    "    print(\"Pre-run model will be loaded\")\n",
    "# If no pre-run models exist...\n",
    "else:\n",
    "    # for a range the size of the total data points we have in steps of 100\n",
    "    for k in range(1, X_trainIdf.shape[0],100):\n",
    "\n",
    "        # Print progress through the loop\n",
    "        print(f\"K={k}/{X_trainIdf.shape[0]}\", end=\"\\r\")\n",
    "        \n",
    "        # Train and fit model with testing number of neighbors\n",
    "        knnIdf = KNeighborsClassifier(n_neighbors=k).fit(X_trainIdf, y_trainIdf)\n",
    "\n",
    "        # Predict model\n",
    "        y_train_pred = knnIdf.predict(X_trainIdf)\n",
    "        y_test_pred = knnIdf.predict(X_valIdf)\n",
    "\n",
    "        # Save model predictions and the relative number of neighbors to lists\n",
    "        trainScores41.append(accuracy_score(X_trainIdf, y_train_pred))\n",
    "        valScores41.append(accuracy_score(X_valIdf, y_test_pred))\n",
    "        K_values41.append(k)\n",
    "\n",
    "    # Save the model result lists for loading in the futrure\n",
    "    joblib.dump(trainScores41, 'preRunModels/trainScores41.joblib')\n",
    "    joblib.dump(valScores41, 'preRunModels/valScores41.joblib')\n",
    "    joblib.dump(K_values41, 'preRunModels/kValues41.joblib')\n",
    "    \n",
    "bestKValIdfKnn = K_values41[np.argmax(valScores41)]"
   ]
  },
  {
   "cell_type": "code",
   "execution_count": null,
   "metadata": {},
   "outputs": [],
   "source": [
    "plt.figure(figsize = (16,8))\n",
    "plt.plot(K_values41, trainScores41, label=\"Train Score\")\n",
    "plt.plot(K_values41, valScores41, label=\"Validation Scores\")\n",
    "plt.xlabel('K-Value')\n",
    "plt.ylabel('Accuracy')\n",
    "plt.legend()\n",
    "plt.show()\n",
    "print(f\"The K-Value with the highest valuation score is {bestKValIdfKnn}\")"
   ]
  },
  {
   "cell_type": "markdown",
   "metadata": {},
   "source": [
    "## IDF K-Values narrow"
   ]
  },
  {
   "cell_type": "code",
   "execution_count": null,
   "metadata": {},
   "outputs": [],
   "source": [
    "# Empty lists to store iteration results\n",
    "trainScores51 = []\n",
    "valScores51 = []\n",
    "K_values51 = []\n",
    "\n",
    "# Check to see if a pre-run model exists - done to save time when re-running and testing the project\n",
    "if (os.path.exists('preRunModels/trainScores51.joblib') & \n",
    "    os.path.exists('preRunModels/valScores51.joblib') & \n",
    "    os.path.exists('preRunModels/K_values51.joblib')):\n",
    "    trainScores51 = joblib.load('preRunModels/trainScores51.joblib')\n",
    "    valScores51 = joblib.load('preRunModels/valScores51.joblib')\n",
    "    K_values51 = joblib.load('preRunModels/K_values51.joblib')\n",
    "    print(\"Pre-run model will be loaded\")\n",
    "# If no pre-run models exist...\n",
    "else:\n",
    "    # for a range the size of the total data points we have in steps of 100\n",
    "    for k in range(1, ????):\n",
    "\n",
    "        # Print progress through the loop\n",
    "        print(f\"K={k}/?????\", end=\"\\r\")\n",
    "        \n",
    "        # Train and fit model with testing number of neighbors\n",
    "        knnIdf = KNeighborsClassifier(n_neighbors=k).fit(X_trainIdf, y_trainIdf)\n",
    "\n",
    "        # Predict model\n",
    "        y_train_pred = knnIdf.predict(X_trainIdf)\n",
    "        y_test_pred = knnIdf.predict(X_valIdf)\n",
    "\n",
    "        # Save model predictions and the relative number of neighbors to lists\n",
    "        trainScores51.append(accuracy_score(X_trainIdf, y_train_pred))\n",
    "        valScores51.append(accuracy_score(X_valIdf, y_test_pred))\n",
    "        K_values51.append(k)\n",
    "\n",
    "    # Save the model result lists for loading in the futrure\n",
    "    joblib.dump(trainScores51, 'preRunModels/trainScores51.joblib')\n",
    "    joblib.dump(valScores51, 'preRunModels/valScores51.joblib')\n",
    "    joblib.dump(K_values51, 'preRunModels/K_values51.joblib')\n",
    "    \n",
    "bestKValIdfKnn = K_values51[np.argmax(valScores51)]"
   ]
  },
  {
   "cell_type": "code",
   "execution_count": null,
   "metadata": {},
   "outputs": [],
   "source": [
    "plt.figure(figsize = (16,8))\n",
    "plt.plot(K_values51, trainScores51, label=\"Train Score\")\n",
    "plt.plot(K_values51, valScores51, label=\"Validation Scores\")\n",
    "plt.xlabel('K-Value')\n",
    "plt.ylabel('Accuracy')\n",
    "plt.legend()\n",
    "plt.show()\n",
    "print(f\"The K-Value with the highest valuation score is {bestKValIdfKnn}\")"
   ]
  },
  {
   "cell_type": "markdown",
   "metadata": {},
   "source": [
    "## KNN Models"
   ]
  },
  {
   "cell_type": "code",
   "execution_count": null,
   "metadata": {},
   "outputs": [],
   "source": [
    "knnVecNlp = KNeighborsClassifier(n_neighbors=k).fit(X_trainVec, y_trainVec)\n",
    "getModelScores(timedResultList, knnNlp, X_trainVec, y_trainVec, X_valVec, 'KNN Vec')\n",
    "\n",
    "knnIdfNlp = KNeighborsClassifier(n_neighbors=k).fit(X_trainIdf, y_trainIdf)\n",
    "getModelScores(timedResultList, knnIdfNlp, X_trainIdf, y_trainIdf, X_valIdf, 'KNN Idf')"
   ]
  },
  {
   "cell_type": "markdown",
   "metadata": {},
   "source": [
    "## Vec Min Values"
   ]
  },
  {
   "cell_type": "code",
   "execution_count": null,
   "metadata": {},
   "outputs": [],
   "source": [
    "# Range to loop through from 1-20000\n",
    "minSamples = np.arange(1, 50000)\n",
    "# Empty lists to store results for graphing\n",
    "trainScores6 = []\n",
    "valScores6 = []\n",
    "min_value6 = []\n",
    "\n",
    "# Check to see if a pre-run model exists - done to save time when re-running and testing the project\n",
    "if (os.path.exists('preRunModels/trainScores6.joblib') & \n",
    "    os.path.exists('preRunModels/valScores6.joblib') & \n",
    "    os.path.exists('preRunModels/min_value6.joblib')):\n",
    "    trainScores6 = joblib.load('preRunModels/trainScores6.joblib')\n",
    "    valScores6 = joblib.load('preRunModels/valScores6.joblib')\n",
    "    min_value6 = joblib.load('preRunModels/min_value6.joblib')\n",
    "    print(\"Pre-run model will be loaded\")\n",
    "# If no pre-run models exist...\n",
    "else:\n",
    "    # For each number from 1-20000....\n",
    "    for minS in minSamples:\n",
    "        # Compile, train, and fit the model and data\n",
    "        dtVec = DecisionTreeClassifier(min_samples_leaf = minS, random_state=12)\n",
    "        dtVec.fit(X_trainVec, y_trainVec)\n",
    "\n",
    "        # Predict the data on the model\n",
    "        y_train_pred = dtVec.predict(X_trainVec)\n",
    "        y_test_pred = dtVec.predict(X_valVec)\n",
    "\n",
    "        # Score the model predictions\n",
    "        trainScores6.append(accuracy_score(X_trainVec, y_trainVec))\n",
    "        valScores6.append(accuracy_score(X_valVec, y_test_pred))\n",
    "        min_value6.append(minS)\n",
    "        \n",
    "        # Print the progress of the loop\n",
    "        print(f\"min samples={minS}/50000\", end=\"\\r\")\n",
    "        \n",
    "    # SAve teh results lists to file\n",
    "    joblib.dump(trainScores6, 'preRunModels/trainScores6.joblib')\n",
    "    joblib.dump(valScores6, 'preRunModels/valScores6.joblib')\n",
    "    joblib.dump(min_value6, 'preRunModels/min_value6.joblib')\n",
    "    \n",
    "bestMinValVecDt = min_value6[np.argmax(valScores6)]"
   ]
  },
  {
   "cell_type": "code",
   "execution_count": null,
   "metadata": {},
   "outputs": [],
   "source": [
    "plt.figure(figsize = (16,8))\n",
    "plt.plot(min_value6, trainScores6, label=\"Train Score\")\n",
    "plt.plot(min_value6, valScores6, label=\"Validation Scores\")\n",
    "plt.xlabel('Min Value')\n",
    "plt.ylabel('Accuracy')\n",
    "plt.legend()\n",
    "plt.show()\n",
    "print(f\"The Min Value with the highest valuation score is {bestMinValVecDt}\")"
   ]
  },
  {
   "cell_type": "markdown",
   "metadata": {},
   "source": [
    "## IDF Min Values"
   ]
  },
  {
   "cell_type": "code",
   "execution_count": null,
   "metadata": {},
   "outputs": [],
   "source": [
    "# Range to loop through from 1-20000\n",
    "minSamples = np.arange(1, 50000)\n",
    "# Empty lists to store results for graphing\n",
    "trainScores61 = []\n",
    "valScores61 = []\n",
    "min_value61 = []\n",
    "\n",
    "# Check to see if a pre-run model exists - done to save time when re-running and testing the project\n",
    "if (os.path.exists('preRunModels/trainScores61.joblib') & \n",
    "    os.path.exists('preRunModels/valScores61.joblib') & \n",
    "    os.path.exists('preRunModels/min_value61.joblib')):\n",
    "    trainScores61 = joblib.load('preRunModels/trainScores61.joblib')\n",
    "    valScores61 = joblib.load('preRunModels/valScores61.joblib')\n",
    "    min_value61 = joblib.load('preRunModels/min_value61.joblib')\n",
    "    print(\"Pre-run model will be loaded\")\n",
    "# If no pre-run models exist...\n",
    "else:\n",
    "    # For each number from 1-20000....\n",
    "    for minS in minSamples:\n",
    "        # Compile, train, and fit the model and data\n",
    "        dtIdf = DecisionTreeClassifier(min_samples_leaf = minS, random_state=12)\n",
    "        dtIdf.fit(X_trainIdf, y_trainIdf)\n",
    "\n",
    "        # Predict the data on the model\n",
    "        y_train_pred = dtIdf.predict(X_trainIdf)\n",
    "        y_test_pred = dtIdf.predict(X_valIdf)\n",
    "\n",
    "        # Score the model predictions\n",
    "        trainScores61.append(accuracy_score(X_trainIdf, y_trainIdf))\n",
    "        valScores61.append(accuracy_score(X_valIdf, y_test_pred))\n",
    "        min_value61.append(minS)\n",
    "        \n",
    "        # Print the progress of the loop\n",
    "        print(f\"min samples={minS}/50000\", end=\"\\r\")\n",
    "        \n",
    "    # SAve teh results lists to file\n",
    "    joblib.dump(trainScores61, 'preRunModels/trainScores61.joblib')\n",
    "    joblib.dump(valScores61, 'preRunModels/valScores61.joblib')\n",
    "    joblib.dump(min_value61, 'preRunModels/min_value61.joblib')\n",
    "    \n",
    "bestMinValIdfDt = min_value61[np.argmax(valScores61)]"
   ]
  },
  {
   "cell_type": "code",
   "execution_count": null,
   "metadata": {},
   "outputs": [],
   "source": [
    "plt.figure(figsize = (16,8))\n",
    "plt.plot(min_value61, trainScores61, label=\"Train Score\")\n",
    "plt.plot(min_value61, valScores61, label=\"Validation Scores\")\n",
    "plt.xlabel('Min Value')\n",
    "plt.ylabel('Accuracy')\n",
    "plt.legend()\n",
    "plt.show()\n",
    "print(f\"The Min Value with the highest valuation score is {bestMinValIdfDt}\")"
   ]
  },
  {
   "cell_type": "markdown",
   "metadata": {},
   "source": [
    "## Vec Depths"
   ]
  },
  {
   "cell_type": "code",
   "execution_count": null,
   "metadata": {},
   "outputs": [],
   "source": [
    "# Range to loop through from 1-50\n",
    "depths = np.arange(1, 51)\n",
    "# Empty lists to store results for graphing\n",
    "trainScores7 = []\n",
    "valScores7 = []\n",
    "depth_value7 = []\n",
    "\n",
    "# Check to see if a pre-run model exists - done to save time when re-running and testing the project\n",
    "if (os.path.exists('preRunModels/trainScores7.joblib') & \n",
    "    os.path.exists('preRunModels/valScores7.joblib') & \n",
    "    os.path.exists('preRunModels/depth_value7.joblib')):\n",
    "    trainScores7 = joblib.load('preRunModels/trainScores7.joblib')\n",
    "    valScores7 = joblib.load('preRunModels/valScores7.joblib')\n",
    "    depth_value7 = joblib.load('preRunModels/depth_value7.joblib')\n",
    "    print(\"Pre-run model will be loaded\")\n",
    "# If no pre-run models exist...\n",
    "else:\n",
    "    # For each number from 1-20000....\n",
    "    for depth in depths:\n",
    "        # Compile, train, and fit the model and data\n",
    "        dtVec = DecisionTreeClassifier(max_depth = depth, \n",
    "                                       min_samples_leaf = bestMinValVecDt, \n",
    "                                       random_state=12)\n",
    "        dtVec.fit(X_trainVec, y_trainVec)\n",
    "\n",
    "        # Predict the data on the model\n",
    "        y_train_pred = dtVec.predict(X_trainVec)\n",
    "        y_test_pred = dtVec.predict(X_valVec)\n",
    "\n",
    "        # Score the model predictions\n",
    "        trainScores7.append(accuracy_score(X_trainVec, y_trainVec))\n",
    "        valScores7.append(accuracy_score(X_valVec, y_test_pred))\n",
    "        depth_value7.append(depth)\n",
    "        \n",
    "        # Print the progress of the loop\n",
    "        print(f\"depth={depth}/50\", end=\"\\r\")\n",
    "        \n",
    "    # SAve teh results lists to file\n",
    "    joblib.dump(trainScores7, 'preRunModels/trainScores7.joblib')\n",
    "    joblib.dump(valScores7, 'preRunModels/valScores7.joblib')\n",
    "    joblib.dump(depth_value7, 'preRunModels/depth_value7.joblib')\n",
    "    \n",
    "bestDepthValVecDt = depth_value7[np.argmax(valScores7)]"
   ]
  },
  {
   "cell_type": "code",
   "execution_count": null,
   "metadata": {},
   "outputs": [],
   "source": [
    "plt.figure(figsize = (16,8))\n",
    "plt.plot(depth_value7, trainScores7, label=\"Train Score\")\n",
    "plt.plot(depth_value7, valScores7, label=\"Validation Scores\")\n",
    "plt.xlabel('Depth Value')\n",
    "plt.ylabel('Accuracy')\n",
    "plt.legend()\n",
    "plt.show()\n",
    "print(f\"The Depth Value with the highest valuation score is {bestDepthValVecDt}\")"
   ]
  },
  {
   "cell_type": "markdown",
   "metadata": {},
   "source": [
    "## IDF Depths"
   ]
  },
  {
   "cell_type": "code",
   "execution_count": null,
   "metadata": {},
   "outputs": [],
   "source": [
    "# Range to loop through from 1-50\n",
    "depths = np.arange(1, 51)\n",
    "# Empty lists to store results for graphing\n",
    "trainScores71 = []\n",
    "valScores71 = []\n",
    "depth_value71 = []\n",
    "\n",
    "# Check to see if a pre-run model exists - done to save time when re-running and testing the project\n",
    "if (os.path.exists('preRunModels/trainScores71.joblib') & \n",
    "    os.path.exists('preRunModels/valScoresvalScores71.joblib') & \n",
    "    os.path.exists('preRunModels/depth_value71.joblib')):\n",
    "    trainScores71 = joblib.load('preRunModels/trainScores71.joblib')\n",
    "    valScores71 = joblib.load('preRunModels/valScores71.joblib')\n",
    "    depth_value71 = joblib.load('preRunModels/depth_value71.joblib')\n",
    "    print(\"Pre-run model will be loaded\")\n",
    "# If no pre-run models exist...\n",
    "else:\n",
    "    # For each number from 1-20000....\n",
    "    for depth in depths:\n",
    "        # Compile, train, and fit the model and data\n",
    "        dtIdf = DecisionTreeClassifier(max_depth = depth, \n",
    "                                       min_samples_leaf = bestMinValIdfDt, \n",
    "                                       random_state=12)\n",
    "        dtIdf.fit(X_trainIdf, y_trainIdf)\n",
    "\n",
    "        # Predict the data on the model\n",
    "        y_train_pred = dtIdf.predict(X_trainIdf)\n",
    "        y_test_pred = dtIdf.predict(X_valIdf)\n",
    "\n",
    "        # Score the model predictions\n",
    "        trainScores71.append(accuracy_score(X_trainIdf, y_train_pred))\n",
    "        valScores71.append(accuracy_score(X_valIdf, y_test_pred))\n",
    "        depth_value71.append(depth)\n",
    "        \n",
    "        # Print the progress of the loop\n",
    "        print(f\"depth={depth}/50\", end=\"\\r\")\n",
    "        \n",
    "    # SAve teh results lists to file\n",
    "    joblib.dump(trainScores71, 'preRunModels/trainScores71.joblib')\n",
    "    joblib.dump(valScores71, 'preRunModels/valScores71.joblib')\n",
    "    joblib.dump(depth_value71, 'preRunModels/depth_value71.joblib')\n",
    "    \n",
    "bestDepthValIdfDt = depth_value71[np.argmax(valScores71)]"
   ]
  },
  {
   "cell_type": "code",
   "execution_count": null,
   "metadata": {},
   "outputs": [],
   "source": [
    "plt.figure(figsize = (16,8))\n",
    "plt.plot(depth_value71, trainScores71, label=\"Train Score\")\n",
    "plt.plot(depth_value71, valScores71, label=\"Validation Scores\")\n",
    "plt.xlabel('Depth Value')\n",
    "plt.ylabel('Accuracy')\n",
    "plt.legend()\n",
    "plt.show()\n",
    "print(f\"The Depth Value with the highest valuation score is {bestDepthValIdfDt}\")"
   ]
  },
  {
   "cell_type": "markdown",
   "metadata": {},
   "source": [
    "## Decision Tree Models"
   ]
  },
  {
   "cell_type": "code",
   "execution_count": null,
   "metadata": {},
   "outputs": [],
   "source": [
    "dtVecNlp = DecisionTreeClassifier(max_depth = bestDepthValVecDt, min_samples_leaf = bestMinValVecDt, random_state=12)\n",
    "getModelScores(timedResultList, dtVecNlp, X_trainVec, y_trainVec, X_valVec, 'DT Vec')\n",
    "\n",
    "dtIdfNlp = DecisionTreeClassifier(max_depth = bestDepthValIdfDt, min_samples_leaf = bestMinValIdfDt, random_state=12)\n",
    "getModelScores(timedResultList, dtIdfNlp, X_trainIdf, y_trainIdf, X_valIdf, 'DT Idf')"
   ]
  }
 ],
 "metadata": {
  "kernelspec": {
   "display_name": "Python 3",
   "language": "python",
   "name": "python3"
  },
  "language_info": {
   "codemirror_mode": {
    "name": "ipython",
    "version": 3
   },
   "file_extension": ".py",
   "mimetype": "text/x-python",
   "name": "python",
   "nbconvert_exporter": "python",
   "pygments_lexer": "ipython3",
   "version": "3.8.3"
  }
 },
 "nbformat": 4,
 "nbformat_minor": 4
}
